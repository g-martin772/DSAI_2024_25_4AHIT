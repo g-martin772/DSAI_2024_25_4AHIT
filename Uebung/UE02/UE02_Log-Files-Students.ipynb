{
 "cells": [
  {
   "cell_type": "markdown",
   "id": "f84980bf",
   "metadata": {},
   "source": [
    "## Analyse von Firewall-Logeinträgen\n",
    "\n",
    "Grundlage bildet das ZIP File *syslog.zip*, das Logeinträge einer Firewall enthält. Jede Zeile im Logfile dokumentiert einen sicherheitsrelevanten Vorfall. Ereignisse, die von der Firewall protokolliert wurden, sind durch den Tag `[UFW ...]` gekennzeichnet. Blockierte Netzwerkpakete werden explizit mit `[UFW BLOCK]` markiert. Der Parameter `SRC=` gibt in diesen Fällen die IP-Adresse an, von der das blockierte Datenpaket gesendet wurde.\n",
    "\n",
    "Auszug aus der *syslog*:\n",
    "````text\n",
    "Jul  6 06:25:29 localhost kernel: [2577529.516853] [UFW BLOCK] IN=eth0 OUT= MAC=00:1b:c6:41:6f:e2:00:1b:c6:10:dc:02:08:00 SRC=195.54.160.155 DST=10.214.99.141 LEN=40 TOS=0x00 PREC=0x00 TTL=249 ID=32829 PROTO=TCP SPT=55025 DPT=701 WINDOW=1024 RES=0x00 SYN URGP=0 \n",
    "Jul  6 06:25:52 localhost kernel: [2577552.314403] [UFW BLOCK] IN=eth0 OUT= MAC=00:1b:c6:41:6f:e2:00:1b:c6:10:dc:02:08:00 SRC=80.82.65.74 DST=10.214.99.141 LEN=40 TOS=0x00 PREC=0x00 TTL=250 ID=18191 PROTO=TCP SPT=49954 DPT=6041 WINDOW=1024 RES=0x00 SYN URGP=0 \n",
    "````\n",
    "\n",
    "> **Hinweis**: Wenn möglich, setzen Sie eine *List Comprehension* ein.\n",
    "\n",
    "### Task 1\n",
    "Laden Sie das ZIP file mithilfe des Moduls `zipfile` (siehe https://docs.python.org/3/library/zipfile.html#zipfile.ZipFile.open), entpacken Sie dieses (auf Code-Ebene) und geben Sie die ersten 2 Einträge aus (siehe oben).  "
   ]
  },
  {
   "metadata": {
    "ExecuteTime": {
     "end_time": "2024-10-17T13:23:31.448370Z",
     "start_time": "2024-10-17T13:23:31.445980Z"
    }
   },
   "cell_type": "code",
   "source": "import zipfile",
   "id": "6d1ad1360a5ceb91",
   "outputs": [],
   "execution_count": 3
  },
  {
   "cell_type": "code",
   "id": "bf41853e",
   "metadata": {
    "ExecuteTime": {
     "end_time": "2024-10-17T13:24:47.455402Z",
     "start_time": "2024-10-17T13:24:47.428392Z"
    }
   },
   "source": [
    "archive = zipfile.ZipFile('logfile.zip', 'r')\n",
    "syslog = archive.open('syslog.log')\n",
    "\n",
    "data = syslog.read().decode('utf-8').split('\\n')\n",
    "\n",
    "print(data[:2])\n",
    "    \n"
   ],
   "outputs": [
    {
     "name": "stdout",
     "output_type": "stream",
     "text": [
      "['Jul  6 06:25:29 localhost kernel: [2577529.516853] [UFW BLOCK] IN=eth0 OUT= MAC=00:1b:c6:41:6f:e2:00:1b:c6:10:dc:02:08:00 SRC=195.54.160.155 DST=10.214.99.141 LEN=40 TOS=0x00 PREC=0x00 TTL=249 ID=32829 PROTO=TCP SPT=55025 DPT=701 WINDOW=1024 RES=0x00 SYN URGP=0 ', 'Jul  6 06:25:52 localhost kernel: [2577552.314403] [UFW BLOCK] IN=eth0 OUT= MAC=00:1b:c6:41:6f:e2:00:1b:c6:10:dc:02:08:00 SRC=80.82.65.74 DST=10.214.99.141 LEN=40 TOS=0x00 PREC=0x00 TTL=250 ID=18191 PROTO=TCP SPT=49954 DPT=6041 WINDOW=1024 RES=0x00 SYN URGP=0 ']\n"
     ]
    }
   ],
   "execution_count": 7
  },
  {
   "cell_type": "markdown",
   "id": "d9959b39",
   "metadata": {},
   "source": [
    "### Task 2\n",
    "Über wie viele Einträge verfügt die Log-Datei?"
   ]
  },
  {
   "cell_type": "code",
   "id": "935b9cf4",
   "metadata": {
    "ExecuteTime": {
     "end_time": "2024-10-17T13:25:25.240580Z",
     "start_time": "2024-10-17T13:25:25.238297Z"
    }
   },
   "source": "print(len(data))",
   "outputs": [
    {
     "name": "stdout",
     "output_type": "stream",
     "text": [
      "6678\n"
     ]
    }
   ],
   "execution_count": 8
  },
  {
   "cell_type": "markdown",
   "id": "010bac65",
   "metadata": {},
   "source": [
    "### Task 3\n",
    "Wie viele Einträge weisen den Status \"geblockt\" auf?"
   ]
  },
  {
   "cell_type": "code",
   "id": "ed031c63",
   "metadata": {
    "ExecuteTime": {
     "end_time": "2024-10-17T13:26:40.932774Z",
     "start_time": "2024-10-17T13:26:40.927587Z"
    }
   },
   "source": "print(len([entry for entry in data if '[UFW BLOCK]' in entry]))",
   "outputs": [
    {
     "name": "stdout",
     "output_type": "stream",
     "text": [
      "6191\n"
     ]
    }
   ],
   "execution_count": 9
  },
  {
   "cell_type": "markdown",
   "id": "349334e1",
   "metadata": {},
   "source": [
    "### Task 4\n",
    "Wie viele Pakete stammen von der IP Adresse 94.102.51.28?"
   ]
  },
  {
   "cell_type": "code",
   "id": "4b81a4f0",
   "metadata": {
    "ExecuteTime": {
     "end_time": "2024-10-17T13:27:58.586669Z",
     "start_time": "2024-10-17T13:27:58.583429Z"
    }
   },
   "source": "print(len([entry for entry in data if 'SRC=94.102.51.28' in entry]))",
   "outputs": [
    {
     "name": "stdout",
     "output_type": "stream",
     "text": [
      "334\n"
     ]
    }
   ],
   "execution_count": 11
  }
 ],
 "metadata": {
  "kernelspec": {
   "display_name": "Python 3 (ipykernel)",
   "language": "python",
   "name": "python3"
  },
  "language_info": {
   "codemirror_mode": {
    "name": "ipython",
    "version": 3
   },
   "file_extension": ".py",
   "mimetype": "text/x-python",
   "name": "python",
   "nbconvert_exporter": "python",
   "pygments_lexer": "ipython3",
   "version": "3.11.5"
  }
 },
 "nbformat": 4,
 "nbformat_minor": 5
}
