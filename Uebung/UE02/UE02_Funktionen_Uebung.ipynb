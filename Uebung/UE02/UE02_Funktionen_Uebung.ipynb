{
 "cells": [
  {
   "metadata": {},
   "cell_type": "markdown",
   "source": "# Funktion zum Umrechnen von Fahrenheit in Celsius",
   "id": "589f0468acc5c867"
  },
  {
   "metadata": {
    "ExecuteTime": {
     "end_time": "2024-10-10T15:16:42.063648Z",
     "start_time": "2024-10-10T15:16:42.060521Z"
    }
   },
   "cell_type": "code",
   "source": [
    "def fahrenheit_to_celsius(fahrenheit):\n",
    "    celsius = (fahrenheit - 32) * 5.0/9.0\n",
    "    return celsius"
   ],
   "id": "54218a6f50b6e25",
   "outputs": [],
   "execution_count": 2
  },
  {
   "metadata": {
    "ExecuteTime": {
     "end_time": "2024-10-10T15:16:56.176570Z",
     "start_time": "2024-10-10T15:16:56.174344Z"
    }
   },
   "cell_type": "code",
   "source": "print(fahrenheit_to_celsius(70))",
   "id": "36312b168d54fb26",
   "outputs": [
    {
     "name": "stdout",
     "output_type": "stream",
     "text": [
      "21.11111111111111\n"
     ]
    }
   ],
   "execution_count": 6
  },
  {
   "metadata": {},
   "cell_type": "markdown",
   "source": "# Zählen von Wörtern in einem Text",
   "id": "1c6d95bd764496cc"
  },
  {
   "metadata": {
    "ExecuteTime": {
     "end_time": "2024-10-10T15:47:01.109938Z",
     "start_time": "2024-10-10T15:47:01.104364Z"
    }
   },
   "cell_type": "code",
   "source": [
    "def count_words(text, *words):\n",
    "    data = text.lower()\n",
    "    result = {}\n",
    "    for word in words:\n",
    "        result[word] = data.count(word.lower())\n",
    "    return result"
   ],
   "id": "af8b186c98015bf2",
   "outputs": [],
   "execution_count": 23
  },
  {
   "metadata": {
    "ExecuteTime": {
     "end_time": "2024-10-10T15:47:02.793312Z",
     "start_time": "2024-10-10T15:47:02.787379Z"
    }
   },
   "cell_type": "code",
   "source": [
    "with open(\"faust.txt\", \"r\") as file:\n",
    "    text = file.read()\n",
    "    print(count_words(text, \"faust\", \"Johann\", \"Test\"))"
   ],
   "id": "f9ee706b6c8941e0",
   "outputs": [
    {
     "name": "stdout",
     "output_type": "stream",
     "text": [
      "{'faust': 278, 'Johann': 4, 'Test': 15}\n"
     ]
    }
   ],
   "execution_count": 24
  }
 ],
 "metadata": {
  "kernelspec": {
   "display_name": "Python 3",
   "language": "python",
   "name": "python3"
  },
  "language_info": {
   "codemirror_mode": {
    "name": "ipython",
    "version": 2
   },
   "file_extension": ".py",
   "mimetype": "text/x-python",
   "name": "python",
   "nbconvert_exporter": "python",
   "pygments_lexer": "ipython2",
   "version": "2.7.6"
  }
 },
 "nbformat": 4,
 "nbformat_minor": 5
}
