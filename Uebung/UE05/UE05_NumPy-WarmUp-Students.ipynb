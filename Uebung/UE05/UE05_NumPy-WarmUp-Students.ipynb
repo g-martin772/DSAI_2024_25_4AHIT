{
 "cells": [
  {
   "cell_type": "markdown",
   "id": "2aa2a242",
   "metadata": {},
   "source": [
    "# Zum Aufwärmen\n",
    "\n",
    "Erstellen Sie **a)** ein NumPy-Array mit folgendem Inhalt:\n",
    "\n",
    "````python\n",
    "array([1, 2, 3, 4, 5, 6, 7, 8, 9])\n",
    "````"
   ]
  },
  {
   "metadata": {
    "ExecuteTime": {
     "end_time": "2025-01-09T09:19:56.572884Z",
     "start_time": "2025-01-09T09:19:56.376894Z"
    }
   },
   "cell_type": "code",
   "source": "import numpy as np",
   "id": "7cbad2d60329a2f",
   "outputs": [],
   "execution_count": 1
  },
  {
   "cell_type": "code",
   "id": "5b4f9935",
   "metadata": {
    "ExecuteTime": {
     "end_time": "2024-12-05T14:39:52.853793Z",
     "start_time": "2024-12-05T14:39:52.849390Z"
    }
   },
   "source": "a = np.array([1, 2, 3, 4, 5, 6, 7, 8, 9, 10, 11, 12, 13, 14, 15, 16, 17, 18, 19])",
   "outputs": [],
   "execution_count": 9
  },
  {
   "cell_type": "markdown",
   "id": "23042df4",
   "metadata": {},
   "source": [
    "**b)** Ändern Sie die Gestalt des Arrays in eine 3x6-Matrix, sodass das Ergebnis so aussieht:\n",
    "    \n",
    "````python\n",
    "array([[ 1,  2,  3,  4,  5,  6],\n",
    "       [ 7,  8,  9, 10, 11, 12],\n",
    "       [13, 14, 15, 16, 17, 18]])\n",
    "````\n",
    "**Hinweis**: Schneiden Sie das Array so zu, dass es für eine 3x6-Gestalt passt."
   ]
  },
  {
   "cell_type": "code",
   "id": "d32d82ba",
   "metadata": {
    "ExecuteTime": {
     "end_time": "2024-12-05T14:39:54.522321Z",
     "start_time": "2024-12-05T14:39:54.518361Z"
    }
   },
   "source": [
    "a = a[:18]\n",
    "a = a.reshape(3, 6)\n",
    "a"
   ],
   "outputs": [
    {
     "data": {
      "text/plain": [
       "array([[ 1,  2,  3,  4,  5,  6],\n",
       "       [ 7,  8,  9, 10, 11, 12],\n",
       "       [13, 14, 15, 16, 17, 18]])"
      ]
     },
     "execution_count": 10,
     "metadata": {},
     "output_type": "execute_result"
    }
   ],
   "execution_count": 10
  },
  {
   "cell_type": "markdown",
   "id": "fff94079",
   "metadata": {},
   "source": [
    "**c)** Zeigen Sie, dass die Shape `(3, 6)` ist."
   ]
  },
  {
   "cell_type": "code",
   "id": "7b281f4e",
   "metadata": {
    "ExecuteTime": {
     "end_time": "2024-12-05T14:41:18.814306Z",
     "start_time": "2024-12-05T14:41:18.811657Z"
    }
   },
   "source": "a.shape",
   "outputs": [
    {
     "data": {
      "text/plain": [
       "(3, 6)"
      ]
     },
     "execution_count": 11,
     "metadata": {},
     "output_type": "execute_result"
    }
   ],
   "execution_count": 11
  },
  {
   "cell_type": "markdown",
   "id": "805bc7a6",
   "metadata": {},
   "source": [
    "**d)** Berechnen Sie die Summe jeder Spalte. Das Ergebnis sollte ein Array mit sechs Werten sein:\n",
    "\n",
    "````python\n",
    "array([21, 24, 27, 30, 33, 36])\n",
    "````\n",
    "\n",
    "**Hinweis**: `axis` is your friend!"
   ]
  },
  {
   "cell_type": "code",
   "id": "2d7d4f69",
   "metadata": {
    "ExecuteTime": {
     "end_time": "2024-12-05T14:41:31.515710Z",
     "start_time": "2024-12-05T14:41:31.510934Z"
    }
   },
   "source": "a.sum(axis=0)",
   "outputs": [
    {
     "data": {
      "text/plain": [
       "array([21, 24, 27, 30, 33, 36])"
      ]
     },
     "execution_count": 12,
     "metadata": {},
     "output_type": "execute_result"
    }
   ],
   "execution_count": 12
  },
  {
   "cell_type": "markdown",
   "id": "5f5350f6",
   "metadata": {},
   "source": [
    "**e)** Erstellen Sie aus dem ursprünglichen Array ein 3D-Array. Schneiden Sie dafür ggf. Werte weg. Das Ergebnis sollte so aussehen:\n",
    "\n",
    "````python\n",
    "array([[[ 1,  2,  3],\n",
    "        [ 4,  5,  6]],\n",
    "       \n",
    "       [[ 7,  8,  9],\n",
    "        [10, 11, 12]],\n",
    "       \n",
    "       [[13, 14, 15],\n",
    "        [16, 17, 18]]])\n",
    "````"
   ]
  },
  {
   "cell_type": "code",
   "id": "fd759ac9",
   "metadata": {
    "ExecuteTime": {
     "end_time": "2024-12-05T14:41:58.656130Z",
     "start_time": "2024-12-05T14:41:58.652753Z"
    }
   },
   "source": [
    "a = a.reshape(3, 2, 3)\n",
    "a"
   ],
   "outputs": [
    {
     "data": {
      "text/plain": [
       "array([[[ 1,  2,  3],\n",
       "        [ 4,  5,  6]],\n",
       "\n",
       "       [[ 7,  8,  9],\n",
       "        [10, 11, 12]],\n",
       "\n",
       "       [[13, 14, 15],\n",
       "        [16, 17, 18]]])"
      ]
     },
     "execution_count": 14,
     "metadata": {},
     "output_type": "execute_result"
    }
   ],
   "execution_count": 14
  }
 ],
 "metadata": {
  "kernelspec": {
   "display_name": "Python 3 (ipykernel)",
   "language": "python",
   "name": "python3"
  },
  "language_info": {
   "codemirror_mode": {
    "name": "ipython",
    "version": 3
   },
   "file_extension": ".py",
   "mimetype": "text/x-python",
   "name": "python",
   "nbconvert_exporter": "python",
   "pygments_lexer": "ipython3",
   "version": "3.11.5"
  }
 },
 "nbformat": 4,
 "nbformat_minor": 5
}
