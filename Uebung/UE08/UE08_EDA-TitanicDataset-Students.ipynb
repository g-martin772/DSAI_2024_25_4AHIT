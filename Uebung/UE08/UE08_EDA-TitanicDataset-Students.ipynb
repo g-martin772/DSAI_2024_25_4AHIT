{
 "cells": [
  {
   "cell_type": "markdown",
   "id": "9ef1f4f2",
   "metadata": {},
   "source": [
    "# UE08: Datenaufbereitung und EDA am Beispiel Titanic\n",
    "\n",
    "In dieser Übung werden wir den Titanic-Datensatz systematisch analysieren, um erste Erkenntnisse über die Überlebenschancen der Passagiere zu gewinnen. Dabei folgen wir einer bewährten Reihenfolge, um zuverlässige und aussagekräftige Ergebnisse zu erhalten. Zunächst laden wir die Daten und verschaffen uns einen Überblick über deren Struktur und Inhalt. Anschließend bereinigen wir den Datensatz, indem wir fehlende Werte, unplausible Einträge und potenzielle Ausreißer identifizieren und entsprechend behandeln. Erst nach dieser Bereinigung testen wir unsere Hypothesen, indem wir verschiedene Analysen und Visualisierungen durchführen. Diese strukturierte Vorgehensweise stellt sicher, dass unsere Analysen auf einer soliden Datenbasis beruhen und wir fundierte Aussagen treffen können.\n",
    "\n",
    "## 0. Dataset im Überblick\n",
    "- **PassengerId**: Eindeutige ID für jeden Passagier\n",
    "- **Survived**: 1 = Überlebt, 0 = Nicht überlebt\n",
    "- **Pclass**: Ticketklasse (1 = Erste Klasse, 2 = Zweite Klasse, 3 = Dritte Klasse)\n",
    "- **Sex**: Geschlecht\n",
    "- **Age**: Alter des Passagiers\n",
    "- **SibSp**: Anzahl der Geschwister/Ehepartner an Bord\n",
    "- **Parch**: Anzahl der Eltern/Kinder an Bord\n",
    "- **Ticket**: Ticketnummer\n",
    "- **Fare**: Ticketpreis\n",
    "- **Cabin**: Kabinennummer\n",
    "- **Embarked**: Hafen, an dem der Passagier eingestiegen ist (C = Cherbourg, Q = Queenstown, S = Southampton)\n",
    "\n",
    "## 1. Vorgehensweise\n",
    "Daten laden und Überblick verschaffen\n",
    "\n",
    "    - Datensatz einlesen, erste Zeilen anschauen.\n",
    "    - Infos zu Datentypen und fehlenden Werten prüfen.\n",
    "\n",
    "Datenbereinigung\n",
    "\n",
    "    - Fehlende Werte behandeln (z. B. durch Entfernen oder Imputieren).\n",
    "    - Unplausible Werte und Ausreißer identifizieren.\n",
    "    - Datentypen anpassen (z. B. Kategorien korrekt kodieren).\n",
    "\n",
    "Hypothesen testen\n",
    "\n",
    "    - Explorative Analyse durchführen (Univariate/Bivariate Analyse).\n",
    "    - Die bereinigten Daten für Visualisierungen und statistische Berechnungen nutzen.\n",
    "    \n",
    "## 3. Hypothesen\n",
    "\n",
    "1. Frauen hatten eine höhere Überlebensrate als Männer.\n",
    "       \n",
    "       - Begründung: Historisch gesehen wurden Frauen und Kinder bei der Evakuierung priorisiert („Women and children first“).\n",
    "       - Überprüfung: Vergleich der Überlebensraten zwischen Männern und Frauen.\n",
    "\n",
    "2. Passagiere der ersten Klasse hatten eine höhere Überlebenswahrscheinlichkeit als die der dritten Klasse.\n",
    "        \n",
    "       - Begründung: Personen in der ersten Klasse hatten besseren Zugang zu Rettungsbooten.\n",
    "       - Überprüfung: Analyse der Überlebensraten nach Ticketklasse (Pclass).\n",
    "\n",
    "3. Jüngere Passagiere hatten eine höhere Überlebenschance.\n",
    "\n",
    "        - Begründung: Kinder wurden bevorzugt gerettet.\n",
    "        - Überprüfung: Untersuchung der Altersverteilung zwischen Überlebenden und Nicht-Überlebenden.\n",
    "\n",
    "4. Der Ticketpreis (Fare) könnte mit der Überlebensrate korrelieren.\n",
    "    \n",
    "        - Begründung: Höhere Ticketpreise sind mit der ersten Klasse verbunden, die eine höhere Überlebenswahrscheinlichkeit hatte.\n",
    "        - Überprüfung: Korrelation zwischen Ticketpreis und Überlebensstatus.\n",
    "\n",
    "5. Passagiere, die alleine reisten, hatten eine geringere Überlebenschance.\n",
    "    \n",
    "        - Begründung: Familien könnten sich gegenseitig unterstützt haben.\n",
    "        - Überprüfung: Zusammenhang zwischen der Anzahl der Familienmitglieder an Bord (SibSp und Parch) und der Überlebensrate.\n",
    "---\n",
    "> Für die eine oder andere Aufgabe ist `groupby` überaus hilfreich: https://pandas.pydata.org/docs/reference/api/pandas.DataFrame.groupby.html"
   ]
  },
  {
   "cell_type": "code",
   "execution_count": null,
   "id": "78372794",
   "metadata": {},
   "outputs": [],
   "source": [
    " "
   ]
  }
 ],
 "metadata": {
  "kernelspec": {
   "display_name": "Python 3 (ipykernel)",
   "language": "python",
   "name": "python3"
  },
  "language_info": {
   "codemirror_mode": {
    "name": "ipython",
    "version": 3
   },
   "file_extension": ".py",
   "mimetype": "text/x-python",
   "name": "python",
   "nbconvert_exporter": "python",
   "pygments_lexer": "ipython3",
   "version": "3.11.5"
  }
 },
 "nbformat": 4,
 "nbformat_minor": 5
}
