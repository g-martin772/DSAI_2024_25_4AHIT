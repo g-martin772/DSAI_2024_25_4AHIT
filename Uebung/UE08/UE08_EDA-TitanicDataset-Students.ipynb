{
 "cells": [
  {
   "cell_type": "markdown",
   "id": "9ef1f4f2",
   "metadata": {},
   "source": [
    "# UE08: Datenaufbereitung und EDA am Beispiel Titanic\n",
    "\n",
    "In dieser Übung werden wir den Titanic-Datensatz systematisch analysieren, um erste Erkenntnisse über die Überlebenschancen der Passagiere zu gewinnen. Dabei folgen wir einer bewährten Reihenfolge, um zuverlässige und aussagekräftige Ergebnisse zu erhalten. Zunächst laden wir die Daten und verschaffen uns einen Überblick über deren Struktur und Inhalt. Anschließend bereinigen wir den Datensatz, indem wir fehlende Werte, unplausible Einträge und potenzielle Ausreißer identifizieren und entsprechend behandeln. Erst nach dieser Bereinigung testen wir unsere Hypothesen, indem wir verschiedene Analysen und Visualisierungen durchführen. Diese strukturierte Vorgehensweise stellt sicher, dass unsere Analysen auf einer soliden Datenbasis beruhen und wir fundierte Aussagen treffen können.\n",
    "\n",
    "## 0. Dataset im Überblick\n",
    "- **PassengerId**: Eindeutige ID für jeden Passagier\n",
    "- **Survived**: 1 = Überlebt, 0 = Nicht überlebt\n",
    "- **Pclass**: Ticketklasse (1 = Erste Klasse, 2 = Zweite Klasse, 3 = Dritte Klasse)\n",
    "- **Sex**: Geschlecht\n",
    "- **Age**: Alter des Passagiers\n",
    "- **SibSp**: Anzahl der Geschwister/Ehepartner an Bord\n",
    "- **Parch**: Anzahl der Eltern/Kinder an Bord\n",
    "- **Ticket**: Ticketnummer\n",
    "- **Fare**: Ticketpreis\n",
    "- **Cabin**: Kabinennummer\n",
    "- **Embarked**: Hafen, an dem der Passagier eingestiegen ist (C = Cherbourg, Q = Queenstown, S = Southampton)\n",
    "\n",
    "## 1. Vorgehensweise\n",
    "Daten laden und Überblick verschaffen\n",
    "\n",
    "    - Datensatz einlesen, erste Zeilen anschauen.\n",
    "    - Infos zu Datentypen und fehlenden Werten prüfen.\n",
    "\n",
    "Datenbereinigung\n",
    "\n",
    "    - Fehlende Werte behandeln (z. B. durch Entfernen oder Imputieren).\n",
    "    - Unplausible Werte und Ausreißer identifizieren.\n",
    "    - Datentypen anpassen (z. B. Kategorien korrekt kodieren).\n",
    "\n",
    "Hypothesen testen\n",
    "\n",
    "    - Explorative Analyse durchführen (Univariate/Bivariate Analyse).\n",
    "    - Die bereinigten Daten für Visualisierungen und statistische Berechnungen nutzen.\n",
    "    \n",
    "## 3. Hypothesen\n",
    "\n",
    "1. Frauen hatten eine höhere Überlebensrate als Männer.\n",
    "       \n",
    "       - Begründung: Historisch gesehen wurden Frauen und Kinder bei der Evakuierung priorisiert („Women and children first“).\n",
    "       - Überprüfung: Vergleich der Überlebensraten zwischen Männern und Frauen.\n",
    "\n",
    "2. Passagiere der ersten Klasse hatten eine höhere Überlebenswahrscheinlichkeit als die der dritten Klasse.\n",
    "        \n",
    "       - Begründung: Personen in der ersten Klasse hatten besseren Zugang zu Rettungsbooten.\n",
    "       - Überprüfung: Analyse der Überlebensraten nach Ticketklasse (Pclass).\n",
    "\n",
    "3. Jüngere Passagiere hatten eine höhere Überlebenschance.\n",
    "\n",
    "        - Begründung: Kinder wurden bevorzugt gerettet.\n",
    "        - Überprüfung: Untersuchung der Altersverteilung zwischen Überlebenden und Nicht-Überlebenden.\n",
    "\n",
    "4. Der Ticketpreis (Fare) könnte mit der Überlebensrate korrelieren.\n",
    "    \n",
    "        - Begründung: Höhere Ticketpreise sind mit der ersten Klasse verbunden, die eine höhere Überlebenswahrscheinlichkeit hatte.\n",
    "        - Überprüfung: Korrelation zwischen Ticketpreis und Überlebensstatus.\n",
    "\n",
    "5. Passagiere, die alleine reisten, hatten eine geringere Überlebenschance.\n",
    "    \n",
    "        - Begründung: Familien könnten sich gegenseitig unterstützt haben.\n",
    "        - Überprüfung: Zusammenhang zwischen der Anzahl der Familienmitglieder an Bord (SibSp und Parch) und der Überlebensrate.\n",
    "---\n",
    "> Für die eine oder andere Aufgabe ist `groupby` überaus hilfreich: https://pandas.pydata.org/docs/reference/api/pandas.DataFrame.groupby.html"
   ]
  },
  {
   "cell_type": "code",
   "id": "78372794",
   "metadata": {
    "ExecuteTime": {
     "end_time": "2025-02-27T15:18:58.138617Z",
     "start_time": "2025-02-27T15:18:58.134052Z"
    }
   },
   "source": [
    "import seaborn as sns\n",
    "import matplotlib.pyplot as plt\n",
    "import pandas as pd"
   ],
   "outputs": [],
   "execution_count": 39
  },
  {
   "metadata": {
    "ExecuteTime": {
     "end_time": "2025-02-27T14:43:44.756264Z",
     "start_time": "2025-02-27T14:43:44.743185Z"
    }
   },
   "cell_type": "code",
   "source": [
    "df = pd.read_csv(\"titanic_train.csv\")\n",
    "df.head()"
   ],
   "id": "d3e9ed78f719c07a",
   "outputs": [
    {
     "data": {
      "text/plain": [
       "   PassengerId  Survived  Pclass  \\\n",
       "0            1         0       3   \n",
       "1            2         1       1   \n",
       "2            3         1       3   \n",
       "3            4         1       1   \n",
       "4            5         0       3   \n",
       "\n",
       "                                                Name     Sex   Age  SibSp  \\\n",
       "0                            Braund, Mr. Owen Harris    male  22.0      1   \n",
       "1  Cumings, Mrs. John Bradley (Florence Briggs Th...  female  38.0      1   \n",
       "2                             Heikkinen, Miss. Laina  female  26.0      0   \n",
       "3       Futrelle, Mrs. Jacques Heath (Lily May Peel)  female  35.0      1   \n",
       "4                           Allen, Mr. William Henry    male  35.0      0   \n",
       "\n",
       "   Parch            Ticket     Fare Cabin Embarked  \n",
       "0      0         A/5 21171   7.2500   NaN        S  \n",
       "1      0          PC 17599  71.2833   C85        C  \n",
       "2      0  STON/O2. 3101282   7.9250   NaN        S  \n",
       "3      0            113803  53.1000  C123        S  \n",
       "4      0            373450   8.0500   NaN        S  "
      ],
      "text/html": [
       "<div>\n",
       "<style scoped>\n",
       "    .dataframe tbody tr th:only-of-type {\n",
       "        vertical-align: middle;\n",
       "    }\n",
       "\n",
       "    .dataframe tbody tr th {\n",
       "        vertical-align: top;\n",
       "    }\n",
       "\n",
       "    .dataframe thead th {\n",
       "        text-align: right;\n",
       "    }\n",
       "</style>\n",
       "<table border=\"1\" class=\"dataframe\">\n",
       "  <thead>\n",
       "    <tr style=\"text-align: right;\">\n",
       "      <th></th>\n",
       "      <th>PassengerId</th>\n",
       "      <th>Survived</th>\n",
       "      <th>Pclass</th>\n",
       "      <th>Name</th>\n",
       "      <th>Sex</th>\n",
       "      <th>Age</th>\n",
       "      <th>SibSp</th>\n",
       "      <th>Parch</th>\n",
       "      <th>Ticket</th>\n",
       "      <th>Fare</th>\n",
       "      <th>Cabin</th>\n",
       "      <th>Embarked</th>\n",
       "    </tr>\n",
       "  </thead>\n",
       "  <tbody>\n",
       "    <tr>\n",
       "      <th>0</th>\n",
       "      <td>1</td>\n",
       "      <td>0</td>\n",
       "      <td>3</td>\n",
       "      <td>Braund, Mr. Owen Harris</td>\n",
       "      <td>male</td>\n",
       "      <td>22.0</td>\n",
       "      <td>1</td>\n",
       "      <td>0</td>\n",
       "      <td>A/5 21171</td>\n",
       "      <td>7.2500</td>\n",
       "      <td>NaN</td>\n",
       "      <td>S</td>\n",
       "    </tr>\n",
       "    <tr>\n",
       "      <th>1</th>\n",
       "      <td>2</td>\n",
       "      <td>1</td>\n",
       "      <td>1</td>\n",
       "      <td>Cumings, Mrs. John Bradley (Florence Briggs Th...</td>\n",
       "      <td>female</td>\n",
       "      <td>38.0</td>\n",
       "      <td>1</td>\n",
       "      <td>0</td>\n",
       "      <td>PC 17599</td>\n",
       "      <td>71.2833</td>\n",
       "      <td>C85</td>\n",
       "      <td>C</td>\n",
       "    </tr>\n",
       "    <tr>\n",
       "      <th>2</th>\n",
       "      <td>3</td>\n",
       "      <td>1</td>\n",
       "      <td>3</td>\n",
       "      <td>Heikkinen, Miss. Laina</td>\n",
       "      <td>female</td>\n",
       "      <td>26.0</td>\n",
       "      <td>0</td>\n",
       "      <td>0</td>\n",
       "      <td>STON/O2. 3101282</td>\n",
       "      <td>7.9250</td>\n",
       "      <td>NaN</td>\n",
       "      <td>S</td>\n",
       "    </tr>\n",
       "    <tr>\n",
       "      <th>3</th>\n",
       "      <td>4</td>\n",
       "      <td>1</td>\n",
       "      <td>1</td>\n",
       "      <td>Futrelle, Mrs. Jacques Heath (Lily May Peel)</td>\n",
       "      <td>female</td>\n",
       "      <td>35.0</td>\n",
       "      <td>1</td>\n",
       "      <td>0</td>\n",
       "      <td>113803</td>\n",
       "      <td>53.1000</td>\n",
       "      <td>C123</td>\n",
       "      <td>S</td>\n",
       "    </tr>\n",
       "    <tr>\n",
       "      <th>4</th>\n",
       "      <td>5</td>\n",
       "      <td>0</td>\n",
       "      <td>3</td>\n",
       "      <td>Allen, Mr. William Henry</td>\n",
       "      <td>male</td>\n",
       "      <td>35.0</td>\n",
       "      <td>0</td>\n",
       "      <td>0</td>\n",
       "      <td>373450</td>\n",
       "      <td>8.0500</td>\n",
       "      <td>NaN</td>\n",
       "      <td>S</td>\n",
       "    </tr>\n",
       "  </tbody>\n",
       "</table>\n",
       "</div>"
      ]
     },
     "execution_count": 4,
     "metadata": {},
     "output_type": "execute_result"
    }
   ],
   "execution_count": 4
  },
  {
   "metadata": {
    "ExecuteTime": {
     "end_time": "2025-02-27T14:44:12.220295Z",
     "start_time": "2025-02-27T14:44:12.213800Z"
    }
   },
   "cell_type": "code",
   "source": "df.info()",
   "id": "962587526fed6659",
   "outputs": [
    {
     "name": "stdout",
     "output_type": "stream",
     "text": [
      "<class 'pandas.core.frame.DataFrame'>\n",
      "RangeIndex: 891 entries, 0 to 890\n",
      "Data columns (total 12 columns):\n",
      " #   Column       Non-Null Count  Dtype  \n",
      "---  ------       --------------  -----  \n",
      " 0   PassengerId  891 non-null    int64  \n",
      " 1   Survived     891 non-null    int64  \n",
      " 2   Pclass       891 non-null    int64  \n",
      " 3   Name         891 non-null    object \n",
      " 4   Sex          891 non-null    object \n",
      " 5   Age          714 non-null    float64\n",
      " 6   SibSp        891 non-null    int64  \n",
      " 7   Parch        891 non-null    int64  \n",
      " 8   Ticket       891 non-null    object \n",
      " 9   Fare         891 non-null    float64\n",
      " 10  Cabin        204 non-null    object \n",
      " 11  Embarked     889 non-null    object \n",
      "dtypes: float64(2), int64(5), object(5)\n",
      "memory usage: 83.7+ KB\n"
     ]
    }
   ],
   "execution_count": 5
  },
  {
   "metadata": {
    "ExecuteTime": {
     "end_time": "2025-02-27T14:44:35.824784Z",
     "start_time": "2025-02-27T14:44:35.820966Z"
    }
   },
   "cell_type": "code",
   "source": "df.notna().sum()",
   "id": "5b55d7ea29595688",
   "outputs": [
    {
     "data": {
      "text/plain": [
       "PassengerId    891\n",
       "Survived       891\n",
       "Pclass         891\n",
       "Name           891\n",
       "Sex            891\n",
       "Age            714\n",
       "SibSp          891\n",
       "Parch          891\n",
       "Ticket         891\n",
       "Fare           891\n",
       "Cabin          204\n",
       "Embarked       889\n",
       "dtype: int64"
      ]
     },
     "execution_count": 7,
     "metadata": {},
     "output_type": "execute_result"
    }
   ],
   "execution_count": 7
  },
  {
   "metadata": {
    "ExecuteTime": {
     "end_time": "2025-02-27T15:06:34.363282Z",
     "start_time": "2025-02-27T15:06:34.358997Z"
    }
   },
   "cell_type": "code",
   "source": [
    "# Frauen hatten eine höhere Überlebensrate als Männer.\n",
    "\n",
    "df.groupby('Sex')['Survived'].mean()"
   ],
   "id": "c98fa53316cd80a9",
   "outputs": [
    {
     "data": {
      "text/plain": [
       "Sex\n",
       "female    0.742038\n",
       "male      0.188908\n",
       "Name: Survived, dtype: float64"
      ]
     },
     "execution_count": 29,
     "metadata": {},
     "output_type": "execute_result"
    }
   ],
   "execution_count": 29
  },
  {
   "metadata": {
    "ExecuteTime": {
     "end_time": "2025-02-27T14:48:53.021321Z",
     "start_time": "2025-02-27T14:48:53.016835Z"
    }
   },
   "cell_type": "code",
   "source": [
    "# Passagiere der ersten Klasse hatten eine höhere Überlebenswahrscheinlichkeit als die der dritten Klasse.\n",
    "\n",
    "df.groupby('Pclass')['Survived'].mean()"
   ],
   "id": "a265509f0dc3bc7e",
   "outputs": [
    {
     "data": {
      "text/plain": [
       "Pclass\n",
       "1    0.629630\n",
       "2    0.472826\n",
       "3    0.242363\n",
       "Name: Survived, dtype: float64"
      ]
     },
     "execution_count": 11,
     "metadata": {},
     "output_type": "execute_result"
    }
   ],
   "execution_count": 11
  },
  {
   "metadata": {
    "ExecuteTime": {
     "end_time": "2025-02-27T15:02:31.041362Z",
     "start_time": "2025-02-27T15:02:31.033003Z"
    }
   },
   "cell_type": "code",
   "source": [
    "# Jüngere Passagiere hatten eine höhere Überlebenschance.\n",
    "\n",
    "age_bins = pd.cut(df['Age'], bins=range(0, 85, 5))\n",
    "df.groupby(age_bins, observed=True)['Survived'].agg([\"mean\", \"count\"])"
   ],
   "id": "fd1cbe27b0252ffb",
   "outputs": [
    {
     "data": {
      "text/plain": [
       "              mean  count\n",
       "Age                      \n",
       "(0, 5]    0.704545     44\n",
       "(5, 10]   0.350000     20\n",
       "(10, 15]  0.578947     19\n",
       "(15, 20]  0.343750     96\n",
       "(20, 25]  0.344262    122\n",
       "(25, 30]  0.388889    108\n",
       "(30, 35]  0.465909     88\n",
       "(35, 40]  0.417910     67\n",
       "(40, 45]  0.361702     47\n",
       "(45, 50]  0.410256     39\n",
       "(50, 55]  0.416667     24\n",
       "(55, 60]  0.388889     18\n",
       "(60, 65]  0.285714     14\n",
       "(65, 70]  0.000000      3\n",
       "(70, 75]  0.000000      4\n",
       "(75, 80]  1.000000      1"
      ],
      "text/html": [
       "<div>\n",
       "<style scoped>\n",
       "    .dataframe tbody tr th:only-of-type {\n",
       "        vertical-align: middle;\n",
       "    }\n",
       "\n",
       "    .dataframe tbody tr th {\n",
       "        vertical-align: top;\n",
       "    }\n",
       "\n",
       "    .dataframe thead th {\n",
       "        text-align: right;\n",
       "    }\n",
       "</style>\n",
       "<table border=\"1\" class=\"dataframe\">\n",
       "  <thead>\n",
       "    <tr style=\"text-align: right;\">\n",
       "      <th></th>\n",
       "      <th>mean</th>\n",
       "      <th>count</th>\n",
       "    </tr>\n",
       "    <tr>\n",
       "      <th>Age</th>\n",
       "      <th></th>\n",
       "      <th></th>\n",
       "    </tr>\n",
       "  </thead>\n",
       "  <tbody>\n",
       "    <tr>\n",
       "      <th>(0, 5]</th>\n",
       "      <td>0.704545</td>\n",
       "      <td>44</td>\n",
       "    </tr>\n",
       "    <tr>\n",
       "      <th>(5, 10]</th>\n",
       "      <td>0.350000</td>\n",
       "      <td>20</td>\n",
       "    </tr>\n",
       "    <tr>\n",
       "      <th>(10, 15]</th>\n",
       "      <td>0.578947</td>\n",
       "      <td>19</td>\n",
       "    </tr>\n",
       "    <tr>\n",
       "      <th>(15, 20]</th>\n",
       "      <td>0.343750</td>\n",
       "      <td>96</td>\n",
       "    </tr>\n",
       "    <tr>\n",
       "      <th>(20, 25]</th>\n",
       "      <td>0.344262</td>\n",
       "      <td>122</td>\n",
       "    </tr>\n",
       "    <tr>\n",
       "      <th>(25, 30]</th>\n",
       "      <td>0.388889</td>\n",
       "      <td>108</td>\n",
       "    </tr>\n",
       "    <tr>\n",
       "      <th>(30, 35]</th>\n",
       "      <td>0.465909</td>\n",
       "      <td>88</td>\n",
       "    </tr>\n",
       "    <tr>\n",
       "      <th>(35, 40]</th>\n",
       "      <td>0.417910</td>\n",
       "      <td>67</td>\n",
       "    </tr>\n",
       "    <tr>\n",
       "      <th>(40, 45]</th>\n",
       "      <td>0.361702</td>\n",
       "      <td>47</td>\n",
       "    </tr>\n",
       "    <tr>\n",
       "      <th>(45, 50]</th>\n",
       "      <td>0.410256</td>\n",
       "      <td>39</td>\n",
       "    </tr>\n",
       "    <tr>\n",
       "      <th>(50, 55]</th>\n",
       "      <td>0.416667</td>\n",
       "      <td>24</td>\n",
       "    </tr>\n",
       "    <tr>\n",
       "      <th>(55, 60]</th>\n",
       "      <td>0.388889</td>\n",
       "      <td>18</td>\n",
       "    </tr>\n",
       "    <tr>\n",
       "      <th>(60, 65]</th>\n",
       "      <td>0.285714</td>\n",
       "      <td>14</td>\n",
       "    </tr>\n",
       "    <tr>\n",
       "      <th>(65, 70]</th>\n",
       "      <td>0.000000</td>\n",
       "      <td>3</td>\n",
       "    </tr>\n",
       "    <tr>\n",
       "      <th>(70, 75]</th>\n",
       "      <td>0.000000</td>\n",
       "      <td>4</td>\n",
       "    </tr>\n",
       "    <tr>\n",
       "      <th>(75, 80]</th>\n",
       "      <td>1.000000</td>\n",
       "      <td>1</td>\n",
       "    </tr>\n",
       "  </tbody>\n",
       "</table>\n",
       "</div>"
      ]
     },
     "execution_count": 24,
     "metadata": {},
     "output_type": "execute_result"
    }
   ],
   "execution_count": 24
  },
  {
   "metadata": {
    "ExecuteTime": {
     "end_time": "2025-02-27T15:11:32.418516Z",
     "start_time": "2025-02-27T15:11:32.409305Z"
    }
   },
   "cell_type": "code",
   "source": [
    "# Der Ticketpreis (Fare) könnte mit der Überlebensrate korrelieren.\n",
    "\n",
    "ticket_bins = pd.cut(df['Fare'], bins=range(0, 550, 40))\n",
    "df.groupby(ticket_bins, observed=True)['Survived'].agg([\"mean\", \"count\"])"
   ],
   "id": "5c2ba8be67444500",
   "outputs": [
    {
     "data": {
      "text/plain": [
       "                mean  count\n",
       "Fare                       \n",
       "(0, 40]     0.325714    700\n",
       "(40, 80]    0.549020    102\n",
       "(80, 120]   0.805556     36\n",
       "(120, 160]  0.750000     16\n",
       "(160, 200]  1.000000      2\n",
       "(200, 240]  0.666667      9\n",
       "(240, 280]  0.625000      8\n",
       "(480, 520]  1.000000      3"
      ],
      "text/html": [
       "<div>\n",
       "<style scoped>\n",
       "    .dataframe tbody tr th:only-of-type {\n",
       "        vertical-align: middle;\n",
       "    }\n",
       "\n",
       "    .dataframe tbody tr th {\n",
       "        vertical-align: top;\n",
       "    }\n",
       "\n",
       "    .dataframe thead th {\n",
       "        text-align: right;\n",
       "    }\n",
       "</style>\n",
       "<table border=\"1\" class=\"dataframe\">\n",
       "  <thead>\n",
       "    <tr style=\"text-align: right;\">\n",
       "      <th></th>\n",
       "      <th>mean</th>\n",
       "      <th>count</th>\n",
       "    </tr>\n",
       "    <tr>\n",
       "      <th>Fare</th>\n",
       "      <th></th>\n",
       "      <th></th>\n",
       "    </tr>\n",
       "  </thead>\n",
       "  <tbody>\n",
       "    <tr>\n",
       "      <th>(0, 40]</th>\n",
       "      <td>0.325714</td>\n",
       "      <td>700</td>\n",
       "    </tr>\n",
       "    <tr>\n",
       "      <th>(40, 80]</th>\n",
       "      <td>0.549020</td>\n",
       "      <td>102</td>\n",
       "    </tr>\n",
       "    <tr>\n",
       "      <th>(80, 120]</th>\n",
       "      <td>0.805556</td>\n",
       "      <td>36</td>\n",
       "    </tr>\n",
       "    <tr>\n",
       "      <th>(120, 160]</th>\n",
       "      <td>0.750000</td>\n",
       "      <td>16</td>\n",
       "    </tr>\n",
       "    <tr>\n",
       "      <th>(160, 200]</th>\n",
       "      <td>1.000000</td>\n",
       "      <td>2</td>\n",
       "    </tr>\n",
       "    <tr>\n",
       "      <th>(200, 240]</th>\n",
       "      <td>0.666667</td>\n",
       "      <td>9</td>\n",
       "    </tr>\n",
       "    <tr>\n",
       "      <th>(240, 280]</th>\n",
       "      <td>0.625000</td>\n",
       "      <td>8</td>\n",
       "    </tr>\n",
       "    <tr>\n",
       "      <th>(480, 520]</th>\n",
       "      <td>1.000000</td>\n",
       "      <td>3</td>\n",
       "    </tr>\n",
       "  </tbody>\n",
       "</table>\n",
       "</div>"
      ]
     },
     "execution_count": 34,
     "metadata": {},
     "output_type": "execute_result"
    }
   ],
   "execution_count": 34
  },
  {
   "metadata": {
    "ExecuteTime": {
     "end_time": "2025-02-27T15:21:36.103011Z",
     "start_time": "2025-02-27T15:21:36.098334Z"
    }
   },
   "cell_type": "code",
   "source": "df[['Fare', 'Survived']].corr().iloc[0, 1]",
   "id": "b61489ce113a90ba",
   "outputs": [
    {
     "data": {
      "text/plain": [
       "np.float64(0.2573065223849626)"
      ]
     },
     "execution_count": 45,
     "metadata": {},
     "output_type": "execute_result"
    }
   ],
   "execution_count": 45
  },
  {
   "metadata": {
    "ExecuteTime": {
     "end_time": "2025-02-27T15:05:01.474015Z",
     "start_time": "2025-02-27T15:05:01.465251Z"
    }
   },
   "cell_type": "code",
   "source": [
    "# Passagiere, die alleine reisten, hatten eine geringere Überlebenschance.\n",
    "\n",
    "df['FamilySize'] = df['SibSp'] + df['Parch']\n",
    "df.groupby('FamilySize')['Survived'].agg([\"mean\", \"count\"])"
   ],
   "id": "a096ca426db564d9",
   "outputs": [
    {
     "data": {
      "text/plain": [
       "                mean  count\n",
       "FamilySize                 \n",
       "0           0.303538    537\n",
       "1           0.552795    161\n",
       "2           0.578431    102\n",
       "3           0.724138     29\n",
       "4           0.200000     15\n",
       "5           0.136364     22\n",
       "6           0.333333     12\n",
       "7           0.000000      6\n",
       "10          0.000000      7"
      ],
      "text/html": [
       "<div>\n",
       "<style scoped>\n",
       "    .dataframe tbody tr th:only-of-type {\n",
       "        vertical-align: middle;\n",
       "    }\n",
       "\n",
       "    .dataframe tbody tr th {\n",
       "        vertical-align: top;\n",
       "    }\n",
       "\n",
       "    .dataframe thead th {\n",
       "        text-align: right;\n",
       "    }\n",
       "</style>\n",
       "<table border=\"1\" class=\"dataframe\">\n",
       "  <thead>\n",
       "    <tr style=\"text-align: right;\">\n",
       "      <th></th>\n",
       "      <th>mean</th>\n",
       "      <th>count</th>\n",
       "    </tr>\n",
       "    <tr>\n",
       "      <th>FamilySize</th>\n",
       "      <th></th>\n",
       "      <th></th>\n",
       "    </tr>\n",
       "  </thead>\n",
       "  <tbody>\n",
       "    <tr>\n",
       "      <th>0</th>\n",
       "      <td>0.303538</td>\n",
       "      <td>537</td>\n",
       "    </tr>\n",
       "    <tr>\n",
       "      <th>1</th>\n",
       "      <td>0.552795</td>\n",
       "      <td>161</td>\n",
       "    </tr>\n",
       "    <tr>\n",
       "      <th>2</th>\n",
       "      <td>0.578431</td>\n",
       "      <td>102</td>\n",
       "    </tr>\n",
       "    <tr>\n",
       "      <th>3</th>\n",
       "      <td>0.724138</td>\n",
       "      <td>29</td>\n",
       "    </tr>\n",
       "    <tr>\n",
       "      <th>4</th>\n",
       "      <td>0.200000</td>\n",
       "      <td>15</td>\n",
       "    </tr>\n",
       "    <tr>\n",
       "      <th>5</th>\n",
       "      <td>0.136364</td>\n",
       "      <td>22</td>\n",
       "    </tr>\n",
       "    <tr>\n",
       "      <th>6</th>\n",
       "      <td>0.333333</td>\n",
       "      <td>12</td>\n",
       "    </tr>\n",
       "    <tr>\n",
       "      <th>7</th>\n",
       "      <td>0.000000</td>\n",
       "      <td>6</td>\n",
       "    </tr>\n",
       "    <tr>\n",
       "      <th>10</th>\n",
       "      <td>0.000000</td>\n",
       "      <td>7</td>\n",
       "    </tr>\n",
       "  </tbody>\n",
       "</table>\n",
       "</div>"
      ]
     },
     "execution_count": 26,
     "metadata": {},
     "output_type": "execute_result"
    }
   ],
   "execution_count": 26
  }
 ],
 "metadata": {
  "kernelspec": {
   "display_name": "Python 3 (ipykernel)",
   "language": "python",
   "name": "python3"
  },
  "language_info": {
   "codemirror_mode": {
    "name": "ipython",
    "version": 3
   },
   "file_extension": ".py",
   "mimetype": "text/x-python",
   "name": "python",
   "nbconvert_exporter": "python",
   "pygments_lexer": "ipython3",
   "version": "3.11.5"
  }
 },
 "nbformat": 4,
 "nbformat_minor": 5
}
