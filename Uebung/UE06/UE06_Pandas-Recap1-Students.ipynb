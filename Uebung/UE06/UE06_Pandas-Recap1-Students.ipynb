{
 "cells": [
  {
   "cell_type": "markdown",
   "metadata": {},
   "source": [
    "# Pandas Exercises 1\n",
    "Arbeiten Sie nachfolgenden Aufgabenstellungen durch und dokumentieren Sie, wenn notwendig, ihre Erkenntnisse. \n",
    "\n",
    "\n",
    "Importieren Sie *pandas*."
   ]
  },
  {
   "cell_type": "code",
   "metadata": {
    "ExecuteTime": {
     "end_time": "2024-12-12T12:49:34.661975Z",
     "start_time": "2024-12-12T12:49:34.658172Z"
    }
   },
   "source": [
    "import pandas as pd\n",
    "import numpy as np"
   ],
   "outputs": [],
   "execution_count": 25
  },
  {
   "cell_type": "markdown",
   "metadata": {},
   "source": [
    "## Task 1\n",
    "Erstellen Sie mit `data` ein *Series*-Objekt und geben Sie dessen Werte sowie Indizes aus. Zeigen Sie außerdem, dass\n",
    "- das erstellte Objekt vom Typ *Series* und\n",
    "- die Werte vom Typ *numpy*\n",
    "sind."
   ]
  },
  {
   "metadata": {
    "ExecuteTime": {
     "end_time": "2024-12-12T12:49:34.677746Z",
     "start_time": "2024-12-12T12:49:34.676039Z"
    }
   },
   "cell_type": "code",
   "source": "data = [11, 28, 72, 3, 5, 8]",
   "outputs": [],
   "execution_count": 26
  },
  {
   "metadata": {
    "ExecuteTime": {
     "end_time": "2024-12-12T12:49:34.735033Z",
     "start_time": "2024-12-12T12:49:34.730712Z"
    }
   },
   "cell_type": "code",
   "source": [
    "series = pd.Series(data)\n",
    "print(series)"
   ],
   "outputs": [
    {
     "name": "stdout",
     "output_type": "stream",
     "text": [
      "0    11\n",
      "1    28\n",
      "2    72\n",
      "3     3\n",
      "4     5\n",
      "5     8\n",
      "dtype: int64\n"
     ]
    }
   ],
   "execution_count": 27
  },
  {
   "cell_type": "markdown",
   "metadata": {},
   "source": [
    "## Task 2\n",
    "Erstellen Sie mit `quantities` eine *Series*. Verwenden Sie hierbei `fruits` als Indizes. Gesuchtes Ergebnis:\n",
    "\n",
    "```python\n",
    "apples      20\n",
    "oranges     23\n",
    "cherries    45\n",
    "pears       10\n",
    "dtype: int64\n",
    "```"
   ]
  },
  {
   "cell_type": "code",
   "metadata": {
    "ExecuteTime": {
     "end_time": "2024-12-12T12:49:34.787946Z",
     "start_time": "2024-12-12T12:49:34.784210Z"
    }
   },
   "source": [
    "fruits = ['apples', 'oranges', 'cherries', 'pears']\n",
    "quantities = [20, 23, 45, 10]\n",
    "series = pd.Series(quantities, index=fruits)\n",
    "print(series)"
   ],
   "outputs": [
    {
     "name": "stdout",
     "output_type": "stream",
     "text": [
      "apples      20\n",
      "oranges     23\n",
      "cherries    45\n",
      "pears       10\n",
      "dtype: int64\n"
     ]
    }
   ],
   "execution_count": 28
  },
  {
   "cell_type": "markdown",
   "metadata": {},
   "source": [
    "## Task 3\n",
    "Man kann zwei *Series*-Objekte (mit denselben Indizes) addieren. Das Ergebnis ist ein neues *Series*-Objekt. Addieren sie die Quantities `q1` und `q2`. Bilden Sie außerdem die Summe der beiden *Series*-Objekte. Gesuchtes Ergebnis:\n",
    "\n",
    "```python\n",
    "apples      30\n",
    "oranges     36\n",
    "cherries    70\n",
    "pears       11\n",
    "dtype: int64\n",
    "Summe: 147\n",
    "```"
   ]
  },
  {
   "cell_type": "code",
   "metadata": {
    "ExecuteTime": {
     "end_time": "2024-12-12T13:40:03.538311Z",
     "start_time": "2024-12-12T13:40:03.534576Z"
    }
   },
   "source": [
    "fruits = ['apples', 'oranges', 'cherries', 'pears']\n",
    "\n",
    "q1 = [20, 23, 45, 10]\n",
    "q2 = [10, 13, 25, 1]\n",
    "\n",
    "series1 = pd.Series(q1, index=fruits)\n",
    "series2 = pd.Series(q2, index=fruits)\n",
    "result = pd.Series(series1 + series2)\n",
    "print(result)\n",
    "print(\"Summe:\", result.sum())"
   ],
   "outputs": [
    {
     "name": "stdout",
     "output_type": "stream",
     "text": [
      "apples      30\n",
      "oranges     36\n",
      "cherries    70\n",
      "pears       11\n",
      "dtype: int64\n",
      "Summe: 147\n"
     ]
    }
   ],
   "execution_count": 39
  },
  {
   "cell_type": "markdown",
   "metadata": {},
   "source": [
    "## Task 4\n",
    "Index-basierter Zugriff erfolgt mit (zwei) eckigen Klammern (z.B. `my_series['foo']` oder `my_series[['foo', 'bar']]`) Geben Sie a) die Anzahl der *Äpfel* aus. Geben Sie b) die Anzahl der *Äpfel*, *Orangen* und *Kirschen* aus. "
   ]
  },
  {
   "cell_type": "code",
   "metadata": {
    "ExecuteTime": {
     "end_time": "2024-12-12T12:49:34.896808Z",
     "start_time": "2024-12-12T12:49:34.889318Z"
    }
   },
   "source": [
    "fruits = ['apples', 'oranges', 'cherries', 'pears']\n",
    "quantities = [20, 23, 45, 10]\n",
    "\n",
    "my_series = pd.Series(quantities, index=fruits)\n",
    "print(\"Anzahl Äpfel:\", my_series['apples'])\n",
    "print(my_series[['apples', 'oranges', 'cherries']])"
   ],
   "outputs": [
    {
     "name": "stdout",
     "output_type": "stream",
     "text": [
      "Anzahl Äpfel: 20\n",
      "apples      20\n",
      "oranges     23\n",
      "cherries    45\n",
      "dtype: int64\n"
     ]
    }
   ],
   "execution_count": 30
  },
  {
   "cell_type": "markdown",
   "metadata": {},
   "source": [
    "## Task 5\n",
    "Ein Problem bei Aufgaben in der Datenanalyse besteht in fehlenden Daten. Gegeben ist das Dictionary `cities`, das für ausgewählte Städte die Einwohnerzahl bereithält. a) Erstellen Sie daraus eine *Series* und geben Sie dieses aus. "
   ]
  },
  {
   "cell_type": "code",
   "metadata": {
    "ExecuteTime": {
     "end_time": "2024-12-12T12:49:34.961092Z",
     "start_time": "2024-12-12T12:49:34.950162Z"
    }
   },
   "source": [
    "cities = {\n",
    "    'London': 8615246,\n",
    "    'Berlin': 3562166,\n",
    "    'Madrid': 3165235,\n",
    "    'Rome': 2874038,\n",
    "    'Paris': 2273305,\n",
    "    'Vienna': 1805681,\n",
    "    'Bucharest': 1803425,\n",
    "    'Hamburg': 1760433,\n",
    "    'Budapest': 1754000,\n",
    "    'Warsaw': 1740119,\n",
    "    'Barcelona': 1602386,\n",
    "    'Munich': 1493900,\n",
    "    'Milan': 1350690\n",
    "}\n",
    "\n",
    "my_cities = pd.Series(cities)\n",
    "my_cities"
   ],
   "outputs": [
    {
     "data": {
      "text/plain": [
       "London       8615246\n",
       "Berlin       3562166\n",
       "Madrid       3165235\n",
       "Rome         2874038\n",
       "Paris        2273305\n",
       "Vienna       1805681\n",
       "Bucharest    1803425\n",
       "Hamburg      1760433\n",
       "Budapest     1754000\n",
       "Warsaw       1740119\n",
       "Barcelona    1602386\n",
       "Munich       1493900\n",
       "Milan        1350690\n",
       "dtype: int64"
      ]
     },
     "execution_count": 31,
     "metadata": {},
     "output_type": "execute_result"
    }
   ],
   "execution_count": 31
  },
  {
   "cell_type": "markdown",
   "metadata": {},
   "source": [
    "Erstellen Sie b) zwei weitere *Series*-Objekte, die aber mit `my_cities1` und `my_cities2` neue Indizes verwenden. Wie intrepretieren Sie das Ergebnis, was fällt Ihnen auf?"
   ]
  },
  {
   "cell_type": "code",
   "metadata": {
    "ExecuteTime": {
     "end_time": "2024-12-12T12:49:35.034031Z",
     "start_time": "2024-12-12T12:49:35.030261Z"
    }
   },
   "source": [
    "my_cities1 = ['London', 'Paris', 'Zurich', 'Berlin', 'Stuttgart', 'Hamburg']\n",
    "my_cities2 = ['London', 'Paris', 'Berlin', 'Hamburg']\n",
    "\n",
    "cities1 = pd.Series(cities, index=my_cities1)\n",
    "cities2 = pd.Series(cities, index=my_cities2)\n",
    "\n",
    "print(cities1)\n",
    "print(cities2)"
   ],
   "outputs": [
    {
     "name": "stdout",
     "output_type": "stream",
     "text": [
      "London       8615246.0\n",
      "Paris        2273305.0\n",
      "Zurich             NaN\n",
      "Berlin       3562166.0\n",
      "Stuttgart          NaN\n",
      "Hamburg      1760433.0\n",
      "dtype: float64\n",
      "London     8615246\n",
      "Paris      2273305\n",
      "Berlin     3562166\n",
      "Hamburg    1760433\n",
      "dtype: int64\n"
     ]
    }
   ],
   "execution_count": 32
  },
  {
   "cell_type": "markdown",
   "metadata": {},
   "source": [
    "`nan`steht für *not a number*, was als \"fehlt\" zu verstehen ist. Mit den Methoden `isnull`und `notnull` kann man auf fehlende Werte überprüfen. Führen Sie c) diese Überprüfung durch, sodass folgendes Ergebnis zu Buche steht:\n",
    "\n",
    "```Python\n",
    "London       False\n",
    "Paris        False\n",
    "Zurich        True\n",
    "Berlin       False\n",
    "Stuttgart     True\n",
    "Hamburg      False\n",
    "dtype: bool\n",
    "```"
   ]
  },
  {
   "cell_type": "markdown",
   "metadata": {},
   "source": [
    "Filtern Sie d) die fehlende Werte mit `dropna()`. Gesuchtes Ergebnis:\n",
    "```python\n",
    "London     8615246.0\n",
    "Paris      2273305.0\n",
    "Berlin     3562166.0\n",
    "Hamburg    1760433.0\n",
    "dtype: float64\n",
    "```"
   ]
  },
  {
   "cell_type": "code",
   "metadata": {
    "ExecuteTime": {
     "end_time": "2024-12-12T12:49:35.096764Z",
     "start_time": "2024-12-12T12:49:35.088095Z"
    }
   },
   "source": "cities1.dropna()",
   "outputs": [
    {
     "data": {
      "text/plain": [
       "London     8615246.0\n",
       "Paris      2273305.0\n",
       "Berlin     3562166.0\n",
       "Hamburg    1760433.0\n",
       "dtype: float64"
      ]
     },
     "execution_count": 33,
     "metadata": {},
     "output_type": "execute_result"
    }
   ],
   "execution_count": 33
  },
  {
   "cell_type": "markdown",
   "metadata": {},
   "source": [
    "Fehlende Daten müssen nicht immer gefiltert werden – oft ist es sinnvoller, diese durch 'passende' Werte zu ersetzen. Mit der Methode `fillna()` können fehlende Werte einfach aufgefüllt werden. Ein naheliegendes Beispiel wäre das Ersetzen aller fehlenden Werte durch '0'. Setzen Sie e) diese Methode in Ihrem Code um:\n",
    "\n",
    "```Python\n",
    "London       8615246.0\n",
    "Paris        2273305.0\n",
    "Zurich             0.0\n",
    "Berlin       3562166.0\n",
    "Stuttgart          0.0\n",
    "Hamburg      1760433.0\n",
    "dtype: float64\n",
    "```"
   ]
  },
  {
   "cell_type": "code",
   "metadata": {
    "ExecuteTime": {
     "end_time": "2024-12-12T12:49:35.206758Z",
     "start_time": "2024-12-12T12:49:35.202312Z"
    }
   },
   "source": "cities1.fillna(0)",
   "outputs": [
    {
     "data": {
      "text/plain": [
       "London       8615246.0\n",
       "Paris        2273305.0\n",
       "Zurich             0.0\n",
       "Berlin       3562166.0\n",
       "Stuttgart          0.0\n",
       "Hamburg      1760433.0\n",
       "dtype: float64"
      ]
     },
     "execution_count": 34,
     "metadata": {},
     "output_type": "execute_result"
    }
   ],
   "execution_count": 34
  },
  {
   "cell_type": "markdown",
   "metadata": {},
   "source": [
    "## Task 6\n",
    "Ein DataFrame in Pandas besteht aus einem Zeilen- und Spaltenindex, der die Struktur der Daten definiert. Um mehrere Series-Objekte zu einem DataFrame zu kombinieren, bietet Pandas die Methode `concat()` an (siehe Dokumentation). Erstellen Sie in Aufgabe a) das DataFrame `shops_df`, indem Sie die drei Series-Objekte zusammenfügen. Das Ergebnis sollte im ersten Schritt wie folgt aussehen:\n",
    "\n",
    "```Python\n",
    "2014    2409.14\n",
    "2015    2941.01\n",
    "2016    3496.83\n",
    "2017    3119.55\n",
    "2014    1203.45\n",
    "2015    3441.62\n",
    "2016    3007.83\n",
    "2017    3619.53\n",
    "2014    3412.12\n",
    "2015    3491.16\n",
    "2016    3457.19\n",
    "2017    1963.10\n",
    "dtype: float64\n",
    "```"
   ]
  },
  {
   "cell_type": "code",
   "metadata": {
    "ExecuteTime": {
     "end_time": "2024-12-12T12:49:35.300276Z",
     "start_time": "2024-12-12T12:49:35.294371Z"
    }
   },
   "source": [
    "#Die Jahre 2014, 2015, 2016 und 2017 erstellen, die als Index einer Series dienen:\n",
    "years = range(2014, 2018)\n",
    "\n",
    "shop1 = pd.Series([2409.14, 2941.01, 3496.83, 3119.55], years)\n",
    "shop2 = pd.Series([1203.45, 3441.62, 3007.83, 3619.53], years)\n",
    "shop3 = pd.Series([3412.12, 3491.16, 3457.19, 1963.10], years)\n",
    "\n",
    "shops_df = pd.concat([shop1, shop2, shop3])\n",
    "shops_df"
   ],
   "outputs": [
    {
     "data": {
      "text/plain": [
       "2014    2409.14\n",
       "2015    2941.01\n",
       "2016    3496.83\n",
       "2017    3119.55\n",
       "2014    1203.45\n",
       "2015    3441.62\n",
       "2016    3007.83\n",
       "2017    3619.53\n",
       "2014    3412.12\n",
       "2015    3491.16\n",
       "2016    3457.19\n",
       "2017    1963.10\n",
       "dtype: float64"
      ]
     },
     "execution_count": 35,
     "metadata": {},
     "output_type": "execute_result"
    }
   ],
   "execution_count": 35
  },
  {
   "cell_type": "markdown",
   "metadata": {},
   "source": [
    "Das Ergebnis ist mehr oder weniger unbrauchbar. Der Grund: `concat` verwendet als Default-Wert für den *axis*-Paramter den Wert 0. Das bedeutet, es wird Zeile um Zeile (der jeweiligen *Series*) aneinandergefügt (vgl. NumPy-Einführung, Leserichtung bei 2D-Tensoren). Abhilfe schafft eine spaltenweise \"Additiion\" der einzelnen *Series'*. Die Umsetzung erfolgt mit dem Argument `axis=1` bei `concat`. Verwenden Sie b) das `axis=1`-Argument beim Zusammenfügen der *Series'*. Das Ergebnis:\n",
    "\n",
    "```Python\n",
    "            0        1        2\n",
    "2014  2409.14  1203.45  3412.12\n",
    "2015  2941.01  3441.62  3491.16\n",
    "2016  3496.83  3007.83  3457.19\n",
    "2017  3119.55  3619.53  1963.10\n",
    "```"
   ]
  },
  {
   "cell_type": "code",
   "metadata": {
    "ExecuteTime": {
     "end_time": "2024-12-12T12:49:35.370231Z",
     "start_time": "2024-12-12T12:49:35.362655Z"
    }
   },
   "source": [
    "shops_df = pd.concat([shop1, shop2, shop3], axis=1)\n",
    "shops_df"
   ],
   "outputs": [
    {
     "data": {
      "text/plain": [
       "            0        1        2\n",
       "2014  2409.14  1203.45  3412.12\n",
       "2015  2941.01  3441.62  3491.16\n",
       "2016  3496.83  3007.83  3457.19\n",
       "2017  3119.55  3619.53  1963.10"
      ],
      "text/html": [
       "<div>\n",
       "<style scoped>\n",
       "    .dataframe tbody tr th:only-of-type {\n",
       "        vertical-align: middle;\n",
       "    }\n",
       "\n",
       "    .dataframe tbody tr th {\n",
       "        vertical-align: top;\n",
       "    }\n",
       "\n",
       "    .dataframe thead th {\n",
       "        text-align: right;\n",
       "    }\n",
       "</style>\n",
       "<table border=\"1\" class=\"dataframe\">\n",
       "  <thead>\n",
       "    <tr style=\"text-align: right;\">\n",
       "      <th></th>\n",
       "      <th>0</th>\n",
       "      <th>1</th>\n",
       "      <th>2</th>\n",
       "    </tr>\n",
       "  </thead>\n",
       "  <tbody>\n",
       "    <tr>\n",
       "      <th>2014</th>\n",
       "      <td>2409.14</td>\n",
       "      <td>1203.45</td>\n",
       "      <td>3412.12</td>\n",
       "    </tr>\n",
       "    <tr>\n",
       "      <th>2015</th>\n",
       "      <td>2941.01</td>\n",
       "      <td>3441.62</td>\n",
       "      <td>3491.16</td>\n",
       "    </tr>\n",
       "    <tr>\n",
       "      <th>2016</th>\n",
       "      <td>3496.83</td>\n",
       "      <td>3007.83</td>\n",
       "      <td>3457.19</td>\n",
       "    </tr>\n",
       "    <tr>\n",
       "      <th>2017</th>\n",
       "      <td>3119.55</td>\n",
       "      <td>3619.53</td>\n",
       "      <td>1963.10</td>\n",
       "    </tr>\n",
       "  </tbody>\n",
       "</table>\n",
       "</div>"
      ]
     },
     "execution_count": 36,
     "metadata": {},
     "output_type": "execute_result"
    }
   ],
   "execution_count": 36
  },
  {
   "cell_type": "markdown",
   "metadata": {},
   "source": [
    "Die bisher erzielte Darstellung der Daten ist deutlich übersichtlicher, allerdings sind die Spaltennamen noch nicht optimal. Ein DataFrame verfügt über das Property `columns`, mit dem die Spaltennamen einfach angepasst werden können. Dazu können Sie eine neue Liste mit Spaltennamen (z.B. die Liste `cities`) zuweisen. Setzen Sie in Aufgabe c) diese Anpassung um, indem Sie dem DataFrame `shops_df` die neuen Spaltenbezeichner zuweisen. Das Ergebnis sollte wie folgt aussehen:\n",
    "\n",
    "```Python\n",
    "         Wien     Graz  Salzburg\n",
    "2014  2409.14  1203.45   3412.12\n",
    "2015  2941.01  3441.62   3491.16\n",
    "2016  3496.83  3007.83   3457.19\n",
    "2017  3119.55  3619.53   1963.10\n",
    "```"
   ]
  },
  {
   "cell_type": "code",
   "metadata": {
    "ExecuteTime": {
     "end_time": "2024-12-12T12:49:35.469984Z",
     "start_time": "2024-12-12T12:49:35.463041Z"
    }
   },
   "source": [
    "cities = ['Wien', 'Graz', 'Salzburg']\n",
    "shops_df.columns = cities\n",
    "shops_df"
   ],
   "outputs": [
    {
     "data": {
      "text/plain": [
       "         Wien     Graz  Salzburg\n",
       "2014  2409.14  1203.45   3412.12\n",
       "2015  2941.01  3441.62   3491.16\n",
       "2016  3496.83  3007.83   3457.19\n",
       "2017  3119.55  3619.53   1963.10"
      ],
      "text/html": [
       "<div>\n",
       "<style scoped>\n",
       "    .dataframe tbody tr th:only-of-type {\n",
       "        vertical-align: middle;\n",
       "    }\n",
       "\n",
       "    .dataframe tbody tr th {\n",
       "        vertical-align: top;\n",
       "    }\n",
       "\n",
       "    .dataframe thead th {\n",
       "        text-align: right;\n",
       "    }\n",
       "</style>\n",
       "<table border=\"1\" class=\"dataframe\">\n",
       "  <thead>\n",
       "    <tr style=\"text-align: right;\">\n",
       "      <th></th>\n",
       "      <th>Wien</th>\n",
       "      <th>Graz</th>\n",
       "      <th>Salzburg</th>\n",
       "    </tr>\n",
       "  </thead>\n",
       "  <tbody>\n",
       "    <tr>\n",
       "      <th>2014</th>\n",
       "      <td>2409.14</td>\n",
       "      <td>1203.45</td>\n",
       "      <td>3412.12</td>\n",
       "    </tr>\n",
       "    <tr>\n",
       "      <th>2015</th>\n",
       "      <td>2941.01</td>\n",
       "      <td>3441.62</td>\n",
       "      <td>3491.16</td>\n",
       "    </tr>\n",
       "    <tr>\n",
       "      <th>2016</th>\n",
       "      <td>3496.83</td>\n",
       "      <td>3007.83</td>\n",
       "      <td>3457.19</td>\n",
       "    </tr>\n",
       "    <tr>\n",
       "      <th>2017</th>\n",
       "      <td>3119.55</td>\n",
       "      <td>3619.53</td>\n",
       "      <td>1963.10</td>\n",
       "    </tr>\n",
       "  </tbody>\n",
       "</table>\n",
       "</div>"
      ]
     },
     "execution_count": 37,
     "metadata": {},
     "output_type": "execute_result"
    }
   ],
   "execution_count": 37
  },
  {
   "cell_type": "markdown",
   "metadata": {},
   "source": [
    "Geben Sie d) die Inhalte der Spalte \"Graz\" aus und vergewissern Sie sich, ob die Spalte vom Typ *Series* ist."
   ]
  },
  {
   "cell_type": "code",
   "metadata": {
    "ExecuteTime": {
     "end_time": "2024-12-12T12:49:35.649463Z",
     "start_time": "2024-12-12T12:49:35.646289Z"
    }
   },
   "source": [
    "print(shops_df['Graz'])\n",
    "print(type(shops_df['Graz']))"
   ],
   "outputs": [
    {
     "name": "stdout",
     "output_type": "stream",
     "text": [
      "2014    1203.45\n",
      "2015    3441.62\n",
      "2016    3007.83\n",
      "2017    3619.53\n",
      "Name: Graz, dtype: float64\n",
      "<class 'pandas.core.series.Series'>\n"
     ]
    }
   ],
   "execution_count": 38
  }
 ],
 "metadata": {
  "kernelspec": {
   "display_name": "Python 3 (ipykernel)",
   "language": "python",
   "name": "python3"
  },
  "language_info": {
   "codemirror_mode": {
    "name": "ipython",
    "version": 3
   },
   "file_extension": ".py",
   "mimetype": "text/x-python",
   "name": "python",
   "nbconvert_exporter": "python",
   "pygments_lexer": "ipython3",
   "version": "3.11.5"
  }
 },
 "nbformat": 4,
 "nbformat_minor": 2
}
