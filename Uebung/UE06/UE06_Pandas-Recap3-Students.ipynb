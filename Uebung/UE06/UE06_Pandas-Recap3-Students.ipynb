{
 "cells": [
  {
   "cell_type": "markdown",
   "metadata": {},
   "source": [
    "# Übung 12 - Pandas Recap 3\n",
    "\n",
    "Arbeiten Sie nachfolgenden Aufgabenstellungen durch und dokumentieren Sie, wenn notwendig, ihre Erkenntnisse. "
   ]
  },
  {
   "cell_type": "code",
   "metadata": {
    "ExecuteTime": {
     "end_time": "2025-01-16T15:09:39.235749Z",
     "start_time": "2025-01-16T15:09:38.909361Z"
    }
   },
   "source": "import pandas as pd",
   "outputs": [],
   "execution_count": 1
  },
  {
   "cell_type": "markdown",
   "metadata": {},
   "source": [
    "## Task 12.1\n",
    "\n",
    "Erstellen Sie a) das DataFrame `person_df` mit folgendem Inhalt:\n",
    "\n",
    "<table>\n",
    "    <tr><th></th><th>Gewicht</th><th>Größe</th></tr>\n",
    "     <tr><td>Henry</td><td>75</td><td>179</td></tr>\n",
    "    <tr><td>Sarah</td><td>68</td><td>165</td></tr>\n",
    "    <tr><td>Elke</td><td>68</td><td>172</td></tr>\n",
    "    <tr><td>Susi</td><td>55</td><td>164</td></tr>\n",
    "    <tr><td>Vera</td><td>58</td><td>160</td></tr>\n",
    "    <tr><td>Toni</td><td>99</td><td>189</td></tr>\n",
    "    <tr><td>Maria</td><td>68</td><td>176</td></tr>\n",
    "    <tr><td>Chris</td><td>60</td><td>175</td></tr>    \n",
    "</table>\n"
   ]
  },
  {
   "cell_type": "code",
   "metadata": {
    "ExecuteTime": {
     "end_time": "2025-01-16T15:09:50.239108Z",
     "start_time": "2025-01-16T15:09:50.231089Z"
    }
   },
   "source": [
    "persons = { \"Name\" : [\"Henry\", \"Sarah\", \"Elke\",\n",
    "                      \"Susi\", \"Vera\", \"Toni\",\n",
    "                      \"Maria\", \"Chris\"],\n",
    "            \"Größe\" : [179, 165, 172, 164, 160,\n",
    "                       189, 176, 175],\n",
    "            \"Gewicht\" : [75, 68, 68, 55, 58, 99, 68, 60]\n",
    "           }\n",
    "\n",
    "person_df = pd.DataFrame(persons)\n",
    "person_df"
   ],
   "outputs": [
    {
     "data": {
      "text/plain": [
       "    Name  Größe  Gewicht\n",
       "0  Henry    179       75\n",
       "1  Sarah    165       68\n",
       "2   Elke    172       68\n",
       "3   Susi    164       55\n",
       "4   Vera    160       58\n",
       "5   Toni    189       99\n",
       "6  Maria    176       68\n",
       "7  Chris    175       60"
      ],
      "text/html": [
       "<div>\n",
       "<style scoped>\n",
       "    .dataframe tbody tr th:only-of-type {\n",
       "        vertical-align: middle;\n",
       "    }\n",
       "\n",
       "    .dataframe tbody tr th {\n",
       "        vertical-align: top;\n",
       "    }\n",
       "\n",
       "    .dataframe thead th {\n",
       "        text-align: right;\n",
       "    }\n",
       "</style>\n",
       "<table border=\"1\" class=\"dataframe\">\n",
       "  <thead>\n",
       "    <tr style=\"text-align: right;\">\n",
       "      <th></th>\n",
       "      <th>Name</th>\n",
       "      <th>Größe</th>\n",
       "      <th>Gewicht</th>\n",
       "    </tr>\n",
       "  </thead>\n",
       "  <tbody>\n",
       "    <tr>\n",
       "      <th>0</th>\n",
       "      <td>Henry</td>\n",
       "      <td>179</td>\n",
       "      <td>75</td>\n",
       "    </tr>\n",
       "    <tr>\n",
       "      <th>1</th>\n",
       "      <td>Sarah</td>\n",
       "      <td>165</td>\n",
       "      <td>68</td>\n",
       "    </tr>\n",
       "    <tr>\n",
       "      <th>2</th>\n",
       "      <td>Elke</td>\n",
       "      <td>172</td>\n",
       "      <td>68</td>\n",
       "    </tr>\n",
       "    <tr>\n",
       "      <th>3</th>\n",
       "      <td>Susi</td>\n",
       "      <td>164</td>\n",
       "      <td>55</td>\n",
       "    </tr>\n",
       "    <tr>\n",
       "      <th>4</th>\n",
       "      <td>Vera</td>\n",
       "      <td>160</td>\n",
       "      <td>58</td>\n",
       "    </tr>\n",
       "    <tr>\n",
       "      <th>5</th>\n",
       "      <td>Toni</td>\n",
       "      <td>189</td>\n",
       "      <td>99</td>\n",
       "    </tr>\n",
       "    <tr>\n",
       "      <th>6</th>\n",
       "      <td>Maria</td>\n",
       "      <td>176</td>\n",
       "      <td>68</td>\n",
       "    </tr>\n",
       "    <tr>\n",
       "      <th>7</th>\n",
       "      <td>Chris</td>\n",
       "      <td>175</td>\n",
       "      <td>60</td>\n",
       "    </tr>\n",
       "  </tbody>\n",
       "</table>\n",
       "</div>"
      ]
     },
     "execution_count": 3,
     "metadata": {},
     "output_type": "execute_result"
    }
   ],
   "execution_count": 3
  },
  {
   "cell_type": "markdown",
   "metadata": {},
   "source": [
    "Der sog. *Body Mass Index* [1] berechnet sich durch:\n",
    "\n",
    "$$\n",
    "BMI = \\frac{\\text{Gewicht in Kilogramm}}{\\left(\\text{Größe in Metern}\\right)^2}\n",
    "$$\n",
    "\n",
    "\n",
    "Berechnen Sie b) den BMI für alle Personen des DataFrames `person_df` und geben Sie ausschließlich jene aus, deren BMI > 20 und < 25 ist. \n",
    "\n",
    "**Hinweis**: Erstellen Sie KEINE neue Spalte im DataFrame. Es ist ausschließlich folgendes Ergebnis in der Zelle auszugeben:\n",
    "\n",
    "```Python\n",
    "Henry    23.407509 \n",
    "Sarah    24.977043 \n",
    "Elke     22.985398  \n",
    "Susi     20.449137  \n",
    "Vera     22.656250  \n",
    "Maria    21.952479\n",
    "dtype: float64\n",
    "``` \n",
    "[1] https://de.wikipedia.org/wiki/Body-Mass-Index "
   ]
  },
  {
   "cell_type": "code",
   "metadata": {
    "ExecuteTime": {
     "end_time": "2025-01-16T15:24:15.798827Z",
     "start_time": "2025-01-16T15:24:15.791172Z"
    }
   },
   "source": [
    "bmi = pd.DataFrame()\n",
    "bmi[\"Names\"] = person_df[\"Name\"]\n",
    "bmi[\"BMI\"] = person_df[\"Gewicht\"] / (person_df[\"Größe\"] / 100) ** 2\n",
    "bmi[(bmi[\"BMI\"] > 20) & (bmi[\"BMI\"] < 25)]"
   ],
   "outputs": [
    {
     "data": {
      "text/plain": [
       "   Names        BMI\n",
       "0  Henry  23.407509\n",
       "1  Sarah  24.977043\n",
       "2   Elke  22.985398\n",
       "3   Susi  20.449137\n",
       "4   Vera  22.656250\n",
       "6  Maria  21.952479"
      ],
      "text/html": [
       "<div>\n",
       "<style scoped>\n",
       "    .dataframe tbody tr th:only-of-type {\n",
       "        vertical-align: middle;\n",
       "    }\n",
       "\n",
       "    .dataframe tbody tr th {\n",
       "        vertical-align: top;\n",
       "    }\n",
       "\n",
       "    .dataframe thead th {\n",
       "        text-align: right;\n",
       "    }\n",
       "</style>\n",
       "<table border=\"1\" class=\"dataframe\">\n",
       "  <thead>\n",
       "    <tr style=\"text-align: right;\">\n",
       "      <th></th>\n",
       "      <th>Names</th>\n",
       "      <th>BMI</th>\n",
       "    </tr>\n",
       "  </thead>\n",
       "  <tbody>\n",
       "    <tr>\n",
       "      <th>0</th>\n",
       "      <td>Henry</td>\n",
       "      <td>23.407509</td>\n",
       "    </tr>\n",
       "    <tr>\n",
       "      <th>1</th>\n",
       "      <td>Sarah</td>\n",
       "      <td>24.977043</td>\n",
       "    </tr>\n",
       "    <tr>\n",
       "      <th>2</th>\n",
       "      <td>Elke</td>\n",
       "      <td>22.985398</td>\n",
       "    </tr>\n",
       "    <tr>\n",
       "      <th>3</th>\n",
       "      <td>Susi</td>\n",
       "      <td>20.449137</td>\n",
       "    </tr>\n",
       "    <tr>\n",
       "      <th>4</th>\n",
       "      <td>Vera</td>\n",
       "      <td>22.656250</td>\n",
       "    </tr>\n",
       "    <tr>\n",
       "      <th>6</th>\n",
       "      <td>Maria</td>\n",
       "      <td>21.952479</td>\n",
       "    </tr>\n",
       "  </tbody>\n",
       "</table>\n",
       "</div>"
      ]
     },
     "execution_count": 17,
     "metadata": {},
     "output_type": "execute_result"
    }
   ],
   "execution_count": 17
  },
  {
   "cell_type": "markdown",
   "metadata": {},
   "source": [
    "Nachdem die Berechnung erfolgreich war, fügen Sie c) die ermittelten Werte (je Person) dem DataFrame `person_df` hinzu. Als Spaltenname ist *BMI* zu wählen."
   ]
  },
  {
   "cell_type": "code",
   "metadata": {
    "ExecuteTime": {
     "end_time": "2025-01-16T15:24:17.398771Z",
     "start_time": "2025-01-16T15:24:17.393111Z"
    }
   },
   "source": [
    "person_df[\"BMI\"] = bmi[\"BMI\"]\n",
    "person_df"
   ],
   "outputs": [
    {
     "data": {
      "text/plain": [
       "    Name  Größe  Gewicht        BMI\n",
       "0  Henry    179       75  23.407509\n",
       "1  Sarah    165       68  24.977043\n",
       "2   Elke    172       68  22.985398\n",
       "3   Susi    164       55  20.449137\n",
       "4   Vera    160       58  22.656250\n",
       "5   Toni    189       99  27.714790\n",
       "6  Maria    176       68  21.952479\n",
       "7  Chris    175       60  19.591837"
      ],
      "text/html": [
       "<div>\n",
       "<style scoped>\n",
       "    .dataframe tbody tr th:only-of-type {\n",
       "        vertical-align: middle;\n",
       "    }\n",
       "\n",
       "    .dataframe tbody tr th {\n",
       "        vertical-align: top;\n",
       "    }\n",
       "\n",
       "    .dataframe thead th {\n",
       "        text-align: right;\n",
       "    }\n",
       "</style>\n",
       "<table border=\"1\" class=\"dataframe\">\n",
       "  <thead>\n",
       "    <tr style=\"text-align: right;\">\n",
       "      <th></th>\n",
       "      <th>Name</th>\n",
       "      <th>Größe</th>\n",
       "      <th>Gewicht</th>\n",
       "      <th>BMI</th>\n",
       "    </tr>\n",
       "  </thead>\n",
       "  <tbody>\n",
       "    <tr>\n",
       "      <th>0</th>\n",
       "      <td>Henry</td>\n",
       "      <td>179</td>\n",
       "      <td>75</td>\n",
       "      <td>23.407509</td>\n",
       "    </tr>\n",
       "    <tr>\n",
       "      <th>1</th>\n",
       "      <td>Sarah</td>\n",
       "      <td>165</td>\n",
       "      <td>68</td>\n",
       "      <td>24.977043</td>\n",
       "    </tr>\n",
       "    <tr>\n",
       "      <th>2</th>\n",
       "      <td>Elke</td>\n",
       "      <td>172</td>\n",
       "      <td>68</td>\n",
       "      <td>22.985398</td>\n",
       "    </tr>\n",
       "    <tr>\n",
       "      <th>3</th>\n",
       "      <td>Susi</td>\n",
       "      <td>164</td>\n",
       "      <td>55</td>\n",
       "      <td>20.449137</td>\n",
       "    </tr>\n",
       "    <tr>\n",
       "      <th>4</th>\n",
       "      <td>Vera</td>\n",
       "      <td>160</td>\n",
       "      <td>58</td>\n",
       "      <td>22.656250</td>\n",
       "    </tr>\n",
       "    <tr>\n",
       "      <th>5</th>\n",
       "      <td>Toni</td>\n",
       "      <td>189</td>\n",
       "      <td>99</td>\n",
       "      <td>27.714790</td>\n",
       "    </tr>\n",
       "    <tr>\n",
       "      <th>6</th>\n",
       "      <td>Maria</td>\n",
       "      <td>176</td>\n",
       "      <td>68</td>\n",
       "      <td>21.952479</td>\n",
       "    </tr>\n",
       "    <tr>\n",
       "      <th>7</th>\n",
       "      <td>Chris</td>\n",
       "      <td>175</td>\n",
       "      <td>60</td>\n",
       "      <td>19.591837</td>\n",
       "    </tr>\n",
       "  </tbody>\n",
       "</table>\n",
       "</div>"
      ]
     },
     "execution_count": 18,
     "metadata": {},
     "output_type": "execute_result"
    }
   ],
   "execution_count": 18
  },
  {
   "cell_type": "markdown",
   "metadata": {},
   "source": [
    "Geben Sie d) das erzeugte DataFrame absteigend sortiert nach dem BMI aus."
   ]
  },
  {
   "cell_type": "code",
   "metadata": {
    "ExecuteTime": {
     "end_time": "2025-01-16T15:25:20.381110Z",
     "start_time": "2025-01-16T15:25:20.369920Z"
    }
   },
   "source": "person_df.sort_values(\"BMI\", ascending=False)",
   "outputs": [
    {
     "data": {
      "text/plain": [
       "    Name  Größe  Gewicht        BMI\n",
       "5   Toni    189       99  27.714790\n",
       "1  Sarah    165       68  24.977043\n",
       "0  Henry    179       75  23.407509\n",
       "2   Elke    172       68  22.985398\n",
       "4   Vera    160       58  22.656250\n",
       "6  Maria    176       68  21.952479\n",
       "3   Susi    164       55  20.449137\n",
       "7  Chris    175       60  19.591837"
      ],
      "text/html": [
       "<div>\n",
       "<style scoped>\n",
       "    .dataframe tbody tr th:only-of-type {\n",
       "        vertical-align: middle;\n",
       "    }\n",
       "\n",
       "    .dataframe tbody tr th {\n",
       "        vertical-align: top;\n",
       "    }\n",
       "\n",
       "    .dataframe thead th {\n",
       "        text-align: right;\n",
       "    }\n",
       "</style>\n",
       "<table border=\"1\" class=\"dataframe\">\n",
       "  <thead>\n",
       "    <tr style=\"text-align: right;\">\n",
       "      <th></th>\n",
       "      <th>Name</th>\n",
       "      <th>Größe</th>\n",
       "      <th>Gewicht</th>\n",
       "      <th>BMI</th>\n",
       "    </tr>\n",
       "  </thead>\n",
       "  <tbody>\n",
       "    <tr>\n",
       "      <th>5</th>\n",
       "      <td>Toni</td>\n",
       "      <td>189</td>\n",
       "      <td>99</td>\n",
       "      <td>27.714790</td>\n",
       "    </tr>\n",
       "    <tr>\n",
       "      <th>1</th>\n",
       "      <td>Sarah</td>\n",
       "      <td>165</td>\n",
       "      <td>68</td>\n",
       "      <td>24.977043</td>\n",
       "    </tr>\n",
       "    <tr>\n",
       "      <th>0</th>\n",
       "      <td>Henry</td>\n",
       "      <td>179</td>\n",
       "      <td>75</td>\n",
       "      <td>23.407509</td>\n",
       "    </tr>\n",
       "    <tr>\n",
       "      <th>2</th>\n",
       "      <td>Elke</td>\n",
       "      <td>172</td>\n",
       "      <td>68</td>\n",
       "      <td>22.985398</td>\n",
       "    </tr>\n",
       "    <tr>\n",
       "      <th>4</th>\n",
       "      <td>Vera</td>\n",
       "      <td>160</td>\n",
       "      <td>58</td>\n",
       "      <td>22.656250</td>\n",
       "    </tr>\n",
       "    <tr>\n",
       "      <th>6</th>\n",
       "      <td>Maria</td>\n",
       "      <td>176</td>\n",
       "      <td>68</td>\n",
       "      <td>21.952479</td>\n",
       "    </tr>\n",
       "    <tr>\n",
       "      <th>3</th>\n",
       "      <td>Susi</td>\n",
       "      <td>164</td>\n",
       "      <td>55</td>\n",
       "      <td>20.449137</td>\n",
       "    </tr>\n",
       "    <tr>\n",
       "      <th>7</th>\n",
       "      <td>Chris</td>\n",
       "      <td>175</td>\n",
       "      <td>60</td>\n",
       "      <td>19.591837</td>\n",
       "    </tr>\n",
       "  </tbody>\n",
       "</table>\n",
       "</div>"
      ]
     },
     "execution_count": 19,
     "metadata": {},
     "output_type": "execute_result"
    }
   ],
   "execution_count": 19
  },
  {
   "cell_type": "markdown",
   "metadata": {},
   "source": [
    "## Task 12.2\n",
    "\n",
    "Laden Sie das bereitgestellte Dataset *parks.csv* und verschaffen Sie sich einen Überblick über dessen Aufbau bzw. Inhalt."
   ]
  },
  {
   "cell_type": "code",
   "metadata": {},
   "source": [
    "park_df = pd.read_csv(\"parks.csv\")\n",
    "park_df"
   ],
   "outputs": [],
   "execution_count": null
  },
  {
   "metadata": {
    "ExecuteTime": {
     "end_time": "2025-01-16T15:25:49.677090Z",
     "start_time": "2025-01-16T15:25:49.658639Z"
    }
   },
   "cell_type": "code",
   "source": "park_df.info()",
   "outputs": [
    {
     "name": "stdout",
     "output_type": "stream",
     "text": [
      "<class 'pandas.core.frame.DataFrame'>\n",
      "RangeIndex: 56 entries, 0 to 55\n",
      "Data columns (total 6 columns):\n",
      " #   Column     Non-Null Count  Dtype  \n",
      "---  ------     --------------  -----  \n",
      " 0   Park Code  56 non-null     object \n",
      " 1   Park Name  56 non-null     object \n",
      " 2   State      56 non-null     object \n",
      " 3   Acres      56 non-null     int64  \n",
      " 4   Latitude   56 non-null     float64\n",
      " 5   Longitude  56 non-null     float64\n",
      "dtypes: float64(2), int64(1), object(3)\n",
      "memory usage: 2.8+ KB\n"
     ]
    }
   ],
   "execution_count": 21
  },
  {
   "cell_type": "markdown",
   "metadata": {},
   "source": [
    "a) Geben Sie den Park mit der ID 9 aus:"
   ]
  },
  {
   "cell_type": "code",
   "metadata": {
    "ExecuteTime": {
     "end_time": "2025-01-16T15:27:10.733359Z",
     "start_time": "2025-01-16T15:27:10.731070Z"
    }
   },
   "source": "",
   "outputs": [],
   "execution_count": null
  },
  {
   "cell_type": "markdown",
   "metadata": {},
   "source": [
    "b) Geben Sie Parks mit der ID 3, 12 und 24 aus:"
   ]
  },
  {
   "cell_type": "code",
   "execution_count": 8,
   "metadata": {},
   "outputs": [],
   "source": [
    "#b)\n"
   ]
  },
  {
   "cell_type": "markdown",
   "metadata": {},
   "source": [
    "c) Wie ist das DataFrame `park_df` zu ändern, dass die Abfrage `park_df.loc['BIBE']` durchläuft und somit folgendes Ergebnis liefert:\n",
    "\n",
    "```Python\n",
    "Park Name    Big Bend National Park\n",
    "State                            TX\n",
    "Acres                        801163\n",
    "Latitude                      29.25\n",
    "Longitude                   -103.25\n",
    "Name: BIBE, dtype: object\n",
    "```"
   ]
  },
  {
   "cell_type": "code",
   "execution_count": 9,
   "metadata": {},
   "outputs": [],
   "source": [
    "#c)"
   ]
  },
  {
   "cell_type": "markdown",
   "metadata": {},
   "source": [
    "d) Geben Sie die ersten drei sowie den 4., 5. und 6 Park aus (zwei separate Anfragen mit `iloc`):"
   ]
  },
  {
   "cell_type": "code",
   "execution_count": 10,
   "metadata": {},
   "outputs": [],
   "source": [
    "#d)"
   ]
  },
  {
   "cell_type": "markdown",
   "metadata": {},
   "source": [
    "e) Gesucht ist folgende Ausgabe der Spalte *Park Code*:\n",
    "\n",
    "```Python\n",
    "0    ACAD\n",
    "1    ARCH\n",
    "2    BADL\n",
    "Name: Park Code, dtype: object\n",
    "```"
   ]
  },
  {
   "cell_type": "code",
   "execution_count": 11,
   "metadata": {},
   "outputs": [],
   "source": [
    "#e)"
   ]
  },
  {
   "cell_type": "markdown",
   "metadata": {},
   "source": [
    "Spaltennamen mit Leerzeichen (und Großbuchstaben) sind eine potenzielle Fehlerquelle, die es zu eliminieren gilt. Ändern Sie f) die Spaltennamen durch den Einsatz von `replace(...)` und `lower(...)` in einer *List Comprehension*. **Wichtig**: Die Liste mit den neuen Spaltennamen ist in der *List Comprehension* zu erstellen. Warum wir eine Liste benötigen, ist durch das Property *columns* von *DataFrame* definiert. `new_column_names` gestaltet sich nach Abarbeitung der *List Comprehension* wie folgt:\n",
    "\n",
    "```Python\n",
    "['parkcode', 'parkname', 'state', 'acres', 'latitude', 'longitude']\n",
    "```"
   ]
  },
  {
   "cell_type": "code",
   "execution_count": 12,
   "metadata": {},
   "outputs": [],
   "source": [
    "#f) "
   ]
  },
  {
   "cell_type": "markdown",
   "metadata": {},
   "source": [
    "Selektieren Sie g) den Parknamen und den Bundestaat der ersten 3 Zeilen im *DataFrame*."
   ]
  },
  {
   "cell_type": "code",
   "execution_count": 13,
   "metadata": {},
   "outputs": [],
   "source": [
    "#g)"
   ]
  },
  {
   "cell_type": "markdown",
   "metadata": {},
   "source": [
    "h) Worin unterscheiden sich diese beiden Abfragen und was wäre eine logische Erklärung dafür?\n",
    "- `park_df.iloc[2]`\n",
    "- `park_df.iloc[[2]]`"
   ]
  },
  {
   "cell_type": "code",
   "execution_count": 15,
   "metadata": {},
   "outputs": [],
   "source": [
    "# h)"
   ]
  },
  {
   "cell_type": "markdown",
   "metadata": {},
   "source": [
    "i) Welche Parks befinden sich im Bundesstaat Utah (UT)?"
   ]
  },
  {
   "cell_type": "code",
   "execution_count": 16,
   "metadata": {},
   "outputs": [],
   "source": [
    "#i)"
   ]
  },
  {
   "cell_type": "markdown",
   "metadata": {},
   "source": [
    "j) Welche Parks erfüllen folgende Bedingung? \n",
    "- latitude > 60 oder acres > 1.000.000"
   ]
  },
  {
   "cell_type": "code",
   "execution_count": 17,
   "metadata": {},
   "outputs": [],
   "source": [
    "#j)"
   ]
  },
  {
   "cell_type": "markdown",
   "metadata": {},
   "source": [
    "k) Finden Sie alle Parks, die sich in den Bundesstaaten *WA*, *OR* und *CA* befinden. Verwenden Sie hierzu `isin()` (https://pandas.pydata.org/pandas-docs/stable/reference/api/pandas.DataFrame.isin.html?highlight=isin#pandas.DataFrame.isin) "
   ]
  },
  {
   "cell_type": "code",
   "execution_count": 18,
   "metadata": {},
   "outputs": [],
   "source": [
    "#k)"
   ]
  }
 ],
 "metadata": {
  "kernelspec": {
   "display_name": "Python 3 (ipykernel)",
   "language": "python",
   "name": "python3"
  },
  "language_info": {
   "codemirror_mode": {
    "name": "ipython",
    "version": 3
   },
   "file_extension": ".py",
   "mimetype": "text/x-python",
   "name": "python",
   "nbconvert_exporter": "python",
   "pygments_lexer": "ipython3",
   "version": "3.11.5"
  }
 },
 "nbformat": 4,
 "nbformat_minor": 2
}
