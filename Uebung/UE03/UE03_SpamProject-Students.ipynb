{
 "cells": [
  {
   "cell_type": "markdown",
   "id": "59d56e68",
   "metadata": {},
   "source": [
    "## Klassifikation von E-Mails als Spam oder Ham\n",
    "\n",
    "In dieser Übung entwickelst du ein einfaches Klassifikationsmodell, das **Spam-E-Mails** von normalen E-Mails (sogenanntem „Ham“) unterscheidet. Dabei analysieren wir den Inhalt der E-Mails anhand **einfacher Schlüsselwörter** (wie dollar, offer etc.)  und prüfen, ob eine E-Mail Spam ist oder nicht. Die Übung besteht aus mehreren Schritten, damit du dein Ergebnis schrittweise überprüfen kannst. Verwende dabei grundlegende Python-Techniken wie Dateioperationen, Kontrollstrukturen, Schleifen etc. ohne externe Bibliotheken.\n",
    "\n",
    "### Task 1: E-Mail-Inhalte einlesen\n",
    "\n",
    "Zuerst lesen wir die E-Mails aus den Verzeichnissen für Spam- und Ham-Mails ein. Die E-Mails liegen in Textdateien in den Ordnern `./spam` (für Spam) und `./easy_ham` (für Ham). Deine erste Aufgabe besteht darin, die Inhalte der E-Mails aus diesen Dateien zu extrahieren. Dazu musst du die Funktion `get_email_content` implementieren, die in der Funktion `read_emails` verwendet wird. Die Aufgabe gilt als erfolgreich gelöst, wenn die zwei *Asserts* fehlerfrei durchlaufen.\n",
    "\n",
    "Der Datensatz verfügt über \n",
    "- 500 Spam Mails und \n",
    "- 2500 Ham Mails.\n",
    "\n",
    "#### Beschreibung der zu implementierenden Funktion `get_email_content`:\n",
    "\n",
    "1. **Öffnen der Datei**: \n",
    "   - Die Funktion erhält den Pfad zu einer E-Mail-Datei und öffnet diese im Lesemodus mit der Kodierung \"iso-8859-1\".\n",
    "\n",
    "2. **Lesen des Inhalts**: \n",
    "   - Der gesamte Inhalt der Datei wird mit `read()` in die Variable `email` eingelesen.\n",
    "\n",
    "3. **Aufteilen des Inhalts**: \n",
    "   - Der Inhalt wird anhand des ersten Auftretens von zwei aufeinanderfolgenden Zeilenumbrüchen (`\"\\n\\n\"`) in zwei Teile (Header und Text) aufgeteilt. `split(\"\\n\\n\", 1)` is your friend! Wir sind am Text interessiert!\n",
    "\n",
    "4. **Prüfen der Aufteilung**: \n",
    "   - Wenn die E-Mail in genau zwei Teile aufgeteilt werden kann, wird der Text zurückgegeben.\n",
    "   - Andernfalls gibt die Funktion `None` zurück, was anzeigt, dass die E-Mail-Struktur ungültig ist.\n",
    "\n",
    "Zusammengefasst: Die Funktion extrahiert den Text einer E-Mail und gibt ihn zurück, oder `None`, wenn die Struktur nicht korrekt ist."
   ]
  },
  {
   "cell_type": "code",
   "id": "a3bbb83f",
   "metadata": {
    "ExecuteTime": {
     "end_time": "2024-11-07T14:20:27.716072Z",
     "start_time": "2024-11-07T14:20:27.606463Z"
    }
   },
   "source": [
    "import zipfile\n",
    "\n",
    "spam, ham = [], []\n",
    "\n",
    "def read_mails():\n",
    "    with zipfile.ZipFile(\"mails.zip\", \"r\") as z:\n",
    "        for file in z.filelist:\n",
    "            with z.open(file) as file_content:\n",
    "                content = file_content.read().decode(\"iso-8859-1\").split(\"\\n\\n\", 1)\n",
    "                if len(content) != 2:\n",
    "                    continue\n",
    "                if \"spam\" in file.filename:\n",
    "                    spam.append(content[1])\n",
    "                else:\n",
    "                    ham.append(content[1])\n",
    "\n",
    "read_mails()\n",
    "len(spam), len(ham)"
   ],
   "outputs": [
    {
     "data": {
      "text/plain": [
       "(500, 2500)"
      ]
     },
     "execution_count": 31,
     "metadata": {},
     "output_type": "execute_result"
    }
   ],
   "execution_count": 31
  },
  {
   "cell_type": "code",
   "id": "60521221",
   "metadata": {
    "ExecuteTime": {
     "end_time": "2024-11-07T14:20:27.809034Z",
     "start_time": "2024-11-07T14:20:27.806260Z"
    }
   },
   "source": [
    "assert len(spam) == 500\n",
    "assert len(ham) == 2500"
   ],
   "outputs": [],
   "execution_count": 32
  },
  {
   "cell_type": "markdown",
   "id": "6b7a53af",
   "metadata": {},
   "source": [
    "### Task 2\n",
    "Im zweiten Schritt gilt es nun mit `email_is_spam` jene Funktion zu implementieren, die entscheidet, ob eine E-Mail Spam ist. Das soll basierend auf bestimmten Schlüsselwörtern im Inhalt der E-Mail erfolgen. \n",
    "\n",
    "#### Schritt-für-Schritt-Anleitung für die Implementierung der Funktion `email_is_spam`\n",
    "1. **Definiere die Funktion**\n",
    "- Erstelle eine Funktion namens email_is_spam, die einen Parameter content erwartet. Dieser Parameter repräsentiert den Text einer E-Mail.\n",
    "2. **Schlüsselwörter festlegen**\n",
    "- Die folgenden Wörter sollen verwendet werden, um zu bestimmen, ob die E-Mail Spam ist: \"million\", \"please\", \"offer\", \"dollar\" und \"service\".\n",
    "3. **Logik zur Spam-Erkennung**\n",
    "- Die Funktion sollte die folgenden Bedingungen mittels `if-elif-else` überprüfen:\n",
    "    - Wenn das Wort \"million\" mindestens einmal im E-Mail-Inhalt vorkommt, gib `True` zurück.\n",
    "    - Wenn das Wort \"please\" mindestens zweimal vorkommt, gib ebenfalls `True` zurück.\n",
    "    - Wenn eines der anderen Wörter (\"offer\", \"dollar\", \"service\") mindestens einmal vorkommt, gib `True` zurück.\n",
    "    - Andernfalls gib `False` zurück.\n",
    "- Die Überprüfung soll unabhängig von Groß- und Kleinschreibung erfolgen! \n",
    "#### Verwendung der Funktion `email_is_spam`\n",
    "Jetzt wollen wir herausfinden, wie gut unser Modell in der Funktion `email_is_spam` funktioniert. Im ersten Schritt betrachten wir alle Spam-Mails und prüfen, wie viele von unserem Modell tatsächlich als Spam erkannt werden. Im zweiten Schritt untersuchen wir, ob das Modell fälschlicherweise Ham-Mails als Spam identifiziert. Im Detail:\n",
    "\n",
    "1. **Erstelle zwei leere Listen**\n",
    "    - `spam_detected`: Diese Liste wird die Ergebnisse der Spam-Erkennung für die E-Mails in `spam_mails` speichern.\n",
    "    - `ham_as_spam_detected`: Diese Liste wird die Ergebnisse der Spam-Erkennung für die E-Mails in `ham_mails` speichern.\n",
    "2. **Durchlaufe die Liste der Spam Mails**\n",
    "    - Für jede E-Mail rufst du die Funktion `email_is_spam(mail)` auf, um zu bestimmen, ob die Mail als Spam klassifiziert wird.\n",
    "    - Tipp: Konvertiere das Ergebnis (True/False) in eine Ganzzahl (1 für True, 0 für False) und füge das Ergebnis zur Liste `spam_detected` hinzu.\n",
    "3. **Durchlaufe die Liste der Nicht-Spam Mails**\n",
    "    - Wiederhole den gleichen Prozess für die Liste `ham_mails`, um zu überprüfen, ob E-Mails fälschlicherweise als Spam erkannt werden.\n",
    "    - Sicher das Ergebnis in der Liste `ham_as_spam_detected`\n",
    "4. **Berechne den Anteil der erkannten Spam-E-Mails**\n",
    "    - Du kannst den Anteil der korrekt erkannten Spam-E-Mails berechnen, indem du die Summe der Liste `spam_detected` durch die Anzahl der E-Mails in `spam_mails` teilst. Das geht, weil in der Liste `spam_detected` entweder '1' oder '0' enthalten ist. Und wie wir wissen, steht die '1' für eine durch das Modell klassifizierte Spam-Mail. Gib den Wert in Prozent aus.\n",
    "5. **Berechne den Anteil der fälschlicherweise als Spam erkannten Nicht-Spam-E-Mails**\n",
    "    - Berechne den Anteil, indem du die Summe der Liste `ham_as_spam_detected` durch die Anzahl der E-Mails in `ham_mails` teilst. Gib den Wert in Prozent aus.\n"
   ]
  },
  {
   "cell_type": "code",
   "id": "6a690b82",
   "metadata": {
    "ExecuteTime": {
     "end_time": "2024-11-07T14:20:27.859511Z",
     "start_time": "2024-11-07T14:20:27.856033Z"
    }
   },
   "source": [
    "def email_is_spam(content_in: str) -> bool:\n",
    "    content = content_in.lower()\n",
    "    spam_words = {\"million\": 1, \"dollar\": 1, \"service\": 1, \"please\": 2, \"offer\": 1}\n",
    "    for key, value in spam_words.items():\n",
    "        if content.count(key) >= value:\n",
    "            return True\n",
    "    return False"
   ],
   "outputs": [],
   "execution_count": 33
  },
  {
   "metadata": {
    "ExecuteTime": {
     "end_time": "2024-11-07T14:25:59.470010Z",
     "start_time": "2024-11-07T14:25:59.436320Z"
    }
   },
   "cell_type": "code",
   "source": [
    "spam_is_spam = [mail for mail in spam if email_is_spam(mail)]\n",
    "ham_is_spam = [mail for mail in ham if email_is_spam(mail)]\n",
    "    \n",
    "print(f\"Anteil der erkannten Spam-Mails: {(len(spam_is_spam) / len(spam)) * 100:.2f}%\")\n",
    "print(f\"Anteil der fälschlicher     weise als Spam erkannten Ham-Mails: {(len(ham_is_spam) / len(ham)) * 100:.2f}%\")"
   ],
   "id": "754a9eecd0cb70e7",
   "outputs": [
    {
     "name": "stdout",
     "output_type": "stream",
     "text": [
      "Anteil der erkannten Spam-Mails: 60.20%\n",
      "Anteil der fälschlicher     weise als Spam erkannten Ham-Mails: 11.16%\n"
     ]
    }
   ],
   "execution_count": 35
  }
 ],
 "metadata": {
  "kernelspec": {
   "display_name": "Python 3 (ipykernel)",
   "language": "python",
   "name": "python3"
  },
  "language_info": {
   "codemirror_mode": {
    "name": "ipython",
    "version": 3
   },
   "file_extension": ".py",
   "mimetype": "text/x-python",
   "name": "python",
   "nbconvert_exporter": "python",
   "pygments_lexer": "ipython3",
   "version": "3.11.5"
  }
 },
 "nbformat": 4,
 "nbformat_minor": 5
}
